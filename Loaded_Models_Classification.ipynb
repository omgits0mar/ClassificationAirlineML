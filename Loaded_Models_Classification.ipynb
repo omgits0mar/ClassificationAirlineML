{
 "cells": [
  {
   "cell_type": "code",
   "execution_count": 75,
   "metadata": {
    "collapsed": true
   },
   "outputs": [],
   "source": [
    "import numpy as np\n",
    "import pandas as pd\n",
    "import seaborn as sns\n",
    "import matplotlib.pyplot as plt\n",
    "import re\n",
    "import datetime\n",
    "\n",
    "from sklearn.metrics import mean_squared_error, r2_score\n",
    "from sklearn import metrics\n",
    "from sklearn.model_selection import train_test_split\n",
    "from sklearn.preprocessing import OrdinalEncoder\n",
    "from sklearn.preprocessing import StandardScaler\n",
    "import joblib"
   ]
  },
  {
   "cell_type": "code",
   "execution_count": 76,
   "outputs": [
    {
     "data": {
      "text/plain": "         date    airline ch_code  num_code dep_time time_taken  \\\n0    8/3/2022  Air India      AI       430     9:55    11h 20m   \n1    7/3/2022     Indigo      6E       926    18:30    04h 55m   \n2  24-03-2022     Indigo      6E      6491    13:05    07h 40m   \n3  27-03-2022  Air India      AI       473    18:40    22h 25m   \n4    7/3/2022     Indigo      6E       684    21:55    01h 15m   \n\n                                                stop arr_time     type  \\\n0  1-stop\\n\\t\\t\\t\\t\\t\\t\\t\\t\\t\\t\\t\\t\\n\\t\\t\\t\\t\\t\\t...    21:15  economy   \n1  1-stop\\n\\t\\t\\t\\t\\t\\t\\t\\t\\t\\t\\t\\t\\n\\t\\t\\t\\t\\t\\t...    23:25  economy   \n2  1-stop\\n\\t\\t\\t\\t\\t\\t\\t\\t\\t\\t\\t\\t\\n\\t\\t\\t\\t\\t\\t...    20:45  economy   \n3  1-stop\\n\\t\\t\\t\\t\\t\\t\\t\\t\\t\\t\\t\\t\\n\\t\\t\\t\\t\\t\\t...    17:05  economy   \n4                                          non-stop     23:10  economy   \n\n                                               route TicketCategory  \n0     {'source': 'Chennai', 'destination': 'Mumbai'}          cheap  \n1       {'source': 'Delhi', 'destination': 'Mumbai'}          cheap  \n2   {'source': 'Bangalore', 'destination': 'Mumbai'}          cheap  \n3    {'source': 'Delhi', 'destination': 'Bangalore'}          cheap  \n4  {'source': 'Bangalore', 'destination': 'Hydera...          cheap  ",
      "text/html": "<div>\n<style scoped>\n    .dataframe tbody tr th:only-of-type {\n        vertical-align: middle;\n    }\n\n    .dataframe tbody tr th {\n        vertical-align: top;\n    }\n\n    .dataframe thead th {\n        text-align: right;\n    }\n</style>\n<table border=\"1\" class=\"dataframe\">\n  <thead>\n    <tr style=\"text-align: right;\">\n      <th></th>\n      <th>date</th>\n      <th>airline</th>\n      <th>ch_code</th>\n      <th>num_code</th>\n      <th>dep_time</th>\n      <th>time_taken</th>\n      <th>stop</th>\n      <th>arr_time</th>\n      <th>type</th>\n      <th>route</th>\n      <th>TicketCategory</th>\n    </tr>\n  </thead>\n  <tbody>\n    <tr>\n      <th>0</th>\n      <td>8/3/2022</td>\n      <td>Air India</td>\n      <td>AI</td>\n      <td>430</td>\n      <td>9:55</td>\n      <td>11h 20m</td>\n      <td>1-stop\\n\\t\\t\\t\\t\\t\\t\\t\\t\\t\\t\\t\\t\\n\\t\\t\\t\\t\\t\\t...</td>\n      <td>21:15</td>\n      <td>economy</td>\n      <td>{'source': 'Chennai', 'destination': 'Mumbai'}</td>\n      <td>cheap</td>\n    </tr>\n    <tr>\n      <th>1</th>\n      <td>7/3/2022</td>\n      <td>Indigo</td>\n      <td>6E</td>\n      <td>926</td>\n      <td>18:30</td>\n      <td>04h 55m</td>\n      <td>1-stop\\n\\t\\t\\t\\t\\t\\t\\t\\t\\t\\t\\t\\t\\n\\t\\t\\t\\t\\t\\t...</td>\n      <td>23:25</td>\n      <td>economy</td>\n      <td>{'source': 'Delhi', 'destination': 'Mumbai'}</td>\n      <td>cheap</td>\n    </tr>\n    <tr>\n      <th>2</th>\n      <td>24-03-2022</td>\n      <td>Indigo</td>\n      <td>6E</td>\n      <td>6491</td>\n      <td>13:05</td>\n      <td>07h 40m</td>\n      <td>1-stop\\n\\t\\t\\t\\t\\t\\t\\t\\t\\t\\t\\t\\t\\n\\t\\t\\t\\t\\t\\t...</td>\n      <td>20:45</td>\n      <td>economy</td>\n      <td>{'source': 'Bangalore', 'destination': 'Mumbai'}</td>\n      <td>cheap</td>\n    </tr>\n    <tr>\n      <th>3</th>\n      <td>27-03-2022</td>\n      <td>Air India</td>\n      <td>AI</td>\n      <td>473</td>\n      <td>18:40</td>\n      <td>22h 25m</td>\n      <td>1-stop\\n\\t\\t\\t\\t\\t\\t\\t\\t\\t\\t\\t\\t\\n\\t\\t\\t\\t\\t\\t...</td>\n      <td>17:05</td>\n      <td>economy</td>\n      <td>{'source': 'Delhi', 'destination': 'Bangalore'}</td>\n      <td>cheap</td>\n    </tr>\n    <tr>\n      <th>4</th>\n      <td>7/3/2022</td>\n      <td>Indigo</td>\n      <td>6E</td>\n      <td>684</td>\n      <td>21:55</td>\n      <td>01h 15m</td>\n      <td>non-stop</td>\n      <td>23:10</td>\n      <td>economy</td>\n      <td>{'source': 'Bangalore', 'destination': 'Hydera...</td>\n      <td>cheap</td>\n    </tr>\n  </tbody>\n</table>\n</div>"
     },
     "execution_count": 76,
     "metadata": {},
     "output_type": "execute_result"
    }
   ],
   "source": [
    "df = pd.read_csv('Samples/airline-tas-classification-test.csv')\n",
    "df.head()"
   ],
   "metadata": {
    "collapsed": false,
    "pycharm": {
     "name": "#%%\n"
    }
   }
  },
  {
   "cell_type": "code",
   "execution_count": 77,
   "outputs": [],
   "source": [
    "import warnings\n",
    "warnings.filterwarnings(\"ignore\")\n"
   ],
   "metadata": {
    "collapsed": false,
    "pycharm": {
     "name": "#%%\n"
    }
   }
  },
  {
   "cell_type": "markdown",
   "source": [
    "#### Loading TicketCategory Encoder :"
   ],
   "metadata": {
    "collapsed": false,
    "pycharm": {
     "name": "#%% md\n"
    }
   }
  },
  {
   "cell_type": "code",
   "execution_count": 78,
   "outputs": [
    {
     "data": {
      "text/plain": "         date    airline ch_code  num_code dep_time time_taken  \\\n0    8/3/2022  Air India      AI       430     9:55    11h 20m   \n1    7/3/2022     Indigo      6E       926    18:30    04h 55m   \n2  24-03-2022     Indigo      6E      6491    13:05    07h 40m   \n3  27-03-2022  Air India      AI       473    18:40    22h 25m   \n4    7/3/2022     Indigo      6E       684    21:55    01h 15m   \n\n                                                stop arr_time     type  \\\n0  1-stop\\n\\t\\t\\t\\t\\t\\t\\t\\t\\t\\t\\t\\t\\n\\t\\t\\t\\t\\t\\t...    21:15  economy   \n1  1-stop\\n\\t\\t\\t\\t\\t\\t\\t\\t\\t\\t\\t\\t\\n\\t\\t\\t\\t\\t\\t...    23:25  economy   \n2  1-stop\\n\\t\\t\\t\\t\\t\\t\\t\\t\\t\\t\\t\\t\\n\\t\\t\\t\\t\\t\\t...    20:45  economy   \n3  1-stop\\n\\t\\t\\t\\t\\t\\t\\t\\t\\t\\t\\t\\t\\n\\t\\t\\t\\t\\t\\t...    17:05  economy   \n4                                          non-stop     23:10  economy   \n\n                                               route  TicketCategory  \n0     {'source': 'Chennai', 'destination': 'Mumbai'}             0.0  \n1       {'source': 'Delhi', 'destination': 'Mumbai'}             0.0  \n2   {'source': 'Bangalore', 'destination': 'Mumbai'}             0.0  \n3    {'source': 'Delhi', 'destination': 'Bangalore'}             0.0  \n4  {'source': 'Bangalore', 'destination': 'Hydera...             0.0  ",
      "text/html": "<div>\n<style scoped>\n    .dataframe tbody tr th:only-of-type {\n        vertical-align: middle;\n    }\n\n    .dataframe tbody tr th {\n        vertical-align: top;\n    }\n\n    .dataframe thead th {\n        text-align: right;\n    }\n</style>\n<table border=\"1\" class=\"dataframe\">\n  <thead>\n    <tr style=\"text-align: right;\">\n      <th></th>\n      <th>date</th>\n      <th>airline</th>\n      <th>ch_code</th>\n      <th>num_code</th>\n      <th>dep_time</th>\n      <th>time_taken</th>\n      <th>stop</th>\n      <th>arr_time</th>\n      <th>type</th>\n      <th>route</th>\n      <th>TicketCategory</th>\n    </tr>\n  </thead>\n  <tbody>\n    <tr>\n      <th>0</th>\n      <td>8/3/2022</td>\n      <td>Air India</td>\n      <td>AI</td>\n      <td>430</td>\n      <td>9:55</td>\n      <td>11h 20m</td>\n      <td>1-stop\\n\\t\\t\\t\\t\\t\\t\\t\\t\\t\\t\\t\\t\\n\\t\\t\\t\\t\\t\\t...</td>\n      <td>21:15</td>\n      <td>economy</td>\n      <td>{'source': 'Chennai', 'destination': 'Mumbai'}</td>\n      <td>0.0</td>\n    </tr>\n    <tr>\n      <th>1</th>\n      <td>7/3/2022</td>\n      <td>Indigo</td>\n      <td>6E</td>\n      <td>926</td>\n      <td>18:30</td>\n      <td>04h 55m</td>\n      <td>1-stop\\n\\t\\t\\t\\t\\t\\t\\t\\t\\t\\t\\t\\t\\n\\t\\t\\t\\t\\t\\t...</td>\n      <td>23:25</td>\n      <td>economy</td>\n      <td>{'source': 'Delhi', 'destination': 'Mumbai'}</td>\n      <td>0.0</td>\n    </tr>\n    <tr>\n      <th>2</th>\n      <td>24-03-2022</td>\n      <td>Indigo</td>\n      <td>6E</td>\n      <td>6491</td>\n      <td>13:05</td>\n      <td>07h 40m</td>\n      <td>1-stop\\n\\t\\t\\t\\t\\t\\t\\t\\t\\t\\t\\t\\t\\n\\t\\t\\t\\t\\t\\t...</td>\n      <td>20:45</td>\n      <td>economy</td>\n      <td>{'source': 'Bangalore', 'destination': 'Mumbai'}</td>\n      <td>0.0</td>\n    </tr>\n    <tr>\n      <th>3</th>\n      <td>27-03-2022</td>\n      <td>Air India</td>\n      <td>AI</td>\n      <td>473</td>\n      <td>18:40</td>\n      <td>22h 25m</td>\n      <td>1-stop\\n\\t\\t\\t\\t\\t\\t\\t\\t\\t\\t\\t\\t\\n\\t\\t\\t\\t\\t\\t...</td>\n      <td>17:05</td>\n      <td>economy</td>\n      <td>{'source': 'Delhi', 'destination': 'Bangalore'}</td>\n      <td>0.0</td>\n    </tr>\n    <tr>\n      <th>4</th>\n      <td>7/3/2022</td>\n      <td>Indigo</td>\n      <td>6E</td>\n      <td>684</td>\n      <td>21:55</td>\n      <td>01h 15m</td>\n      <td>non-stop</td>\n      <td>23:10</td>\n      <td>economy</td>\n      <td>{'source': 'Bangalore', 'destination': 'Hydera...</td>\n      <td>0.0</td>\n    </tr>\n  </tbody>\n</table>\n</div>"
     },
     "execution_count": 78,
     "metadata": {},
     "output_type": "execute_result"
    }
   ],
   "source": [
    "price_enc = joblib.load(\"EncoderModels/price_enc.save\")\n",
    "df['TicketCategory'] = price_enc.transform(df[[\"TicketCategory\"]])\n",
    "df.head()"
   ],
   "metadata": {
    "collapsed": false,
    "pycharm": {
     "name": "#%%\n"
    }
   }
  },
  {
   "cell_type": "markdown",
   "source": [
    "#### Data preprocessing on Date"
   ],
   "metadata": {
    "collapsed": false,
    "pycharm": {
     "name": "#%% md\n"
    }
   }
  },
  {
   "cell_type": "code",
   "execution_count": 79,
   "outputs": [],
   "source": [
    "df[\"date\"]=pd.to_datetime(df[\"date\"])\n",
    "df[\"date\"]=df[\"date\"].dt.strftime(\"%m/%d/%Y\")\n",
    "df['month'] = pd.DatetimeIndex(df['date']).month\n",
    "df['day'] = pd.DatetimeIndex(df['date']).day\n",
    "df['dayofyear'] = pd.DatetimeIndex(df['date']).dayofyear"
   ],
   "metadata": {
    "collapsed": false,
    "pycharm": {
     "name": "#%%\n"
    }
   }
  },
  {
   "cell_type": "markdown",
   "source": [
    "#### Loading Ch_code Encoder :"
   ],
   "metadata": {
    "collapsed": false,
    "pycharm": {
     "name": "#%% md\n"
    }
   }
  },
  {
   "cell_type": "code",
   "execution_count": 80,
   "outputs": [
    {
     "data": {
      "text/plain": "         date    airline  ch_code  num_code dep_time time_taken  \\\n0  08/03/2022  Air India      2.0       430     9:55    11h 20m   \n1  07/03/2022     Indigo      1.0       926    18:30    04h 55m   \n2  03/24/2022     Indigo      1.0      6491    13:05    07h 40m   \n3  03/27/2022  Air India      2.0       473    18:40    22h 25m   \n4  07/03/2022     Indigo      1.0       684    21:55    01h 15m   \n\n                                                stop arr_time     type  \\\n0  1-stop\\n\\t\\t\\t\\t\\t\\t\\t\\t\\t\\t\\t\\t\\n\\t\\t\\t\\t\\t\\t...    21:15  economy   \n1  1-stop\\n\\t\\t\\t\\t\\t\\t\\t\\t\\t\\t\\t\\t\\n\\t\\t\\t\\t\\t\\t...    23:25  economy   \n2  1-stop\\n\\t\\t\\t\\t\\t\\t\\t\\t\\t\\t\\t\\t\\n\\t\\t\\t\\t\\t\\t...    20:45  economy   \n3  1-stop\\n\\t\\t\\t\\t\\t\\t\\t\\t\\t\\t\\t\\t\\n\\t\\t\\t\\t\\t\\t...    17:05  economy   \n4                                          non-stop     23:10  economy   \n\n                                               route  TicketCategory  month  \\\n0     {'source': 'Chennai', 'destination': 'Mumbai'}             0.0      8   \n1       {'source': 'Delhi', 'destination': 'Mumbai'}             0.0      7   \n2   {'source': 'Bangalore', 'destination': 'Mumbai'}             0.0      3   \n3    {'source': 'Delhi', 'destination': 'Bangalore'}             0.0      3   \n4  {'source': 'Bangalore', 'destination': 'Hydera...             0.0      7   \n\n   day  dayofyear  \n0    3        215  \n1    3        184  \n2   24         83  \n3   27         86  \n4    3        184  ",
      "text/html": "<div>\n<style scoped>\n    .dataframe tbody tr th:only-of-type {\n        vertical-align: middle;\n    }\n\n    .dataframe tbody tr th {\n        vertical-align: top;\n    }\n\n    .dataframe thead th {\n        text-align: right;\n    }\n</style>\n<table border=\"1\" class=\"dataframe\">\n  <thead>\n    <tr style=\"text-align: right;\">\n      <th></th>\n      <th>date</th>\n      <th>airline</th>\n      <th>ch_code</th>\n      <th>num_code</th>\n      <th>dep_time</th>\n      <th>time_taken</th>\n      <th>stop</th>\n      <th>arr_time</th>\n      <th>type</th>\n      <th>route</th>\n      <th>TicketCategory</th>\n      <th>month</th>\n      <th>day</th>\n      <th>dayofyear</th>\n    </tr>\n  </thead>\n  <tbody>\n    <tr>\n      <th>0</th>\n      <td>08/03/2022</td>\n      <td>Air India</td>\n      <td>2.0</td>\n      <td>430</td>\n      <td>9:55</td>\n      <td>11h 20m</td>\n      <td>1-stop\\n\\t\\t\\t\\t\\t\\t\\t\\t\\t\\t\\t\\t\\n\\t\\t\\t\\t\\t\\t...</td>\n      <td>21:15</td>\n      <td>economy</td>\n      <td>{'source': 'Chennai', 'destination': 'Mumbai'}</td>\n      <td>0.0</td>\n      <td>8</td>\n      <td>3</td>\n      <td>215</td>\n    </tr>\n    <tr>\n      <th>1</th>\n      <td>07/03/2022</td>\n      <td>Indigo</td>\n      <td>1.0</td>\n      <td>926</td>\n      <td>18:30</td>\n      <td>04h 55m</td>\n      <td>1-stop\\n\\t\\t\\t\\t\\t\\t\\t\\t\\t\\t\\t\\t\\n\\t\\t\\t\\t\\t\\t...</td>\n      <td>23:25</td>\n      <td>economy</td>\n      <td>{'source': 'Delhi', 'destination': 'Mumbai'}</td>\n      <td>0.0</td>\n      <td>7</td>\n      <td>3</td>\n      <td>184</td>\n    </tr>\n    <tr>\n      <th>2</th>\n      <td>03/24/2022</td>\n      <td>Indigo</td>\n      <td>1.0</td>\n      <td>6491</td>\n      <td>13:05</td>\n      <td>07h 40m</td>\n      <td>1-stop\\n\\t\\t\\t\\t\\t\\t\\t\\t\\t\\t\\t\\t\\n\\t\\t\\t\\t\\t\\t...</td>\n      <td>20:45</td>\n      <td>economy</td>\n      <td>{'source': 'Bangalore', 'destination': 'Mumbai'}</td>\n      <td>0.0</td>\n      <td>3</td>\n      <td>24</td>\n      <td>83</td>\n    </tr>\n    <tr>\n      <th>3</th>\n      <td>03/27/2022</td>\n      <td>Air India</td>\n      <td>2.0</td>\n      <td>473</td>\n      <td>18:40</td>\n      <td>22h 25m</td>\n      <td>1-stop\\n\\t\\t\\t\\t\\t\\t\\t\\t\\t\\t\\t\\t\\n\\t\\t\\t\\t\\t\\t...</td>\n      <td>17:05</td>\n      <td>economy</td>\n      <td>{'source': 'Delhi', 'destination': 'Bangalore'}</td>\n      <td>0.0</td>\n      <td>3</td>\n      <td>27</td>\n      <td>86</td>\n    </tr>\n    <tr>\n      <th>4</th>\n      <td>07/03/2022</td>\n      <td>Indigo</td>\n      <td>1.0</td>\n      <td>684</td>\n      <td>21:55</td>\n      <td>01h 15m</td>\n      <td>non-stop</td>\n      <td>23:10</td>\n      <td>economy</td>\n      <td>{'source': 'Bangalore', 'destination': 'Hydera...</td>\n      <td>0.0</td>\n      <td>7</td>\n      <td>3</td>\n      <td>184</td>\n    </tr>\n  </tbody>\n</table>\n</div>"
     },
     "execution_count": 80,
     "metadata": {},
     "output_type": "execute_result"
    }
   ],
   "source": [
    "ch_enc = joblib.load(\"EncoderModels/ch_enc.save\")\n",
    "\n",
    "df['ch_code'] = ch_enc.transform(df[[\"ch_code\"]])\n",
    "\n",
    "df.head()"
   ],
   "metadata": {
    "collapsed": false,
    "pycharm": {
     "name": "#%%\n"
    }
   }
  },
  {
   "cell_type": "markdown",
   "source": [
    "#### Departure time preprocessing"
   ],
   "metadata": {
    "collapsed": false,
    "pycharm": {
     "name": "#%% md\n"
    }
   }
  },
  {
   "cell_type": "code",
   "execution_count": 81,
   "outputs": [],
   "source": [
    "df[\"dep_time\"]=pd.to_datetime(df[\"dep_time\"])\n",
    "df['dep_time'] = df['dep_time'].dt.strftime(\"%-H:%M\")\n",
    "df[\"dep_hour\"]=pd.DatetimeIndex(df[\"dep_time\"]).hour\n",
    "df[\"dep_minute\"]=pd.DatetimeIndex(df[\"dep_time\"]).minute"
   ],
   "metadata": {
    "collapsed": false,
    "pycharm": {
     "name": "#%%\n"
    }
   }
  },
  {
   "cell_type": "markdown",
   "source": [
    "#### Time_taken preprocessing"
   ],
   "metadata": {
    "collapsed": false,
    "pycharm": {
     "name": "#%% md\n"
    }
   }
  },
  {
   "cell_type": "code",
   "execution_count": 82,
   "outputs": [],
   "source": [
    "df[\"hours_taken\"] = df[\"time_taken\"].str.split('h').str.get(0)\n",
    "df[\"minutes_taken\"] = df[\"time_taken\"].str[4:6]\n",
    "df[\"minutes_taken\"] = df[\"minutes_taken\"].str.replace('m', '')\n",
    "df[\"minutes_taken\"] = df[\"minutes_taken\"].str.replace('h', '')\n",
    "df[\"hours_taken\"] = pd.to_numeric(df[\"hours_taken\"])\n",
    "df[\"minutes_taken\"] = pd.to_numeric(df[\"minutes_taken\"], errors='coerce')"
   ],
   "metadata": {
    "collapsed": false,
    "pycharm": {
     "name": "#%%\n"
    }
   }
  },
  {
   "cell_type": "markdown",
   "source": [
    "#### Stop preprocessing"
   ],
   "metadata": {
    "collapsed": false,
    "pycharm": {
     "name": "#%% md\n"
    }
   }
  },
  {
   "cell_type": "code",
   "execution_count": 83,
   "outputs": [],
   "source": [
    "df[\"stop\"] = df[\"stop\"].str.split('-').str.get(0)\n",
    "df[\"stop\"] = df[\"stop\"].replace(['non'], 0)\n",
    "df.isna().sum() #  28944 null vals\n",
    "df[\"stop\"] = df[\"stop\"].replace(['2+'], 2) # Indicates for 2 or more stops\n",
    "df['stop'] = df['stop'].fillna(0)\n",
    "df['stop'] = pd.to_numeric(df['stop'])"
   ],
   "metadata": {
    "collapsed": false,
    "pycharm": {
     "name": "#%%\n"
    }
   }
  },
  {
   "cell_type": "markdown",
   "source": [
    "#### Arrival time preprocessing"
   ],
   "metadata": {
    "collapsed": false,
    "pycharm": {
     "name": "#%% md\n"
    }
   }
  },
  {
   "cell_type": "code",
   "execution_count": 84,
   "outputs": [],
   "source": [
    "df[\"arr_time\"]=pd.to_datetime(df[\"arr_time\"])\n",
    "df['arr_time'] = df['arr_time'].dt.strftime(\"%-H:%M\")\n",
    "df[\"arr_hour\"]=pd.DatetimeIndex(df[\"arr_time\"]).hour\n",
    "df[\"arr_minute\"]=pd.DatetimeIndex(df[\"arr_time\"]).minute\n",
    "df[\"arr_hour\"] = pd.to_numeric(df[\"arr_hour\"])\n",
    "df[\"arr_minute\"] = pd.to_numeric(df[\"arr_minute\"])"
   ],
   "metadata": {
    "collapsed": false,
    "pycharm": {
     "name": "#%%\n"
    }
   }
  },
  {
   "cell_type": "markdown",
   "source": [
    "#### Source & Destination preprocessing"
   ],
   "metadata": {
    "collapsed": false,
    "pycharm": {
     "name": "#%% md\n"
    }
   }
  },
  {
   "cell_type": "code",
   "execution_count": 85,
   "outputs": [],
   "source": [
    "df['source'] = df['route'].str.split( ', ').str.get(0).str.split(':').str.get(1)\n",
    "df['destination'] = df['route'].str.split( ', ').str.get(1).str.split(':').str.get(1).str.split('}').str.get(0)\n",
    "df['source'] = df['source'].str.replace('\\'', \"\")\n",
    "df['destination'] = df['destination'].str.replace('\\'', \"\")"
   ],
   "metadata": {
    "collapsed": false,
    "pycharm": {
     "name": "#%%\n"
    }
   }
  },
  {
   "cell_type": "markdown",
   "source": [
    "#### Loading Type Encoder :"
   ],
   "metadata": {
    "collapsed": false,
    "pycharm": {
     "name": "#%% md\n"
    }
   }
  },
  {
   "cell_type": "code",
   "execution_count": 86,
   "outputs": [
    {
     "data": {
      "text/plain": "         date    airline  ch_code  num_code             dep_time time_taken  \\\n0  08/03/2022  Air India      2.0       430  2022-05-28 09:55:00    11h 20m   \n1  07/03/2022     Indigo      1.0       926  2022-05-28 18:30:00    04h 55m   \n2  03/24/2022     Indigo      1.0      6491  2022-05-28 13:05:00    07h 40m   \n3  03/27/2022  Air India      2.0       473  2022-05-28 18:40:00    22h 25m   \n4  07/03/2022     Indigo      1.0       684  2022-05-28 21:55:00    01h 15m   \n\n   stop             arr_time  type  \\\n0     1  2022-05-28 21:15:00   1.0   \n1     1  2022-05-28 23:25:00   1.0   \n2     1  2022-05-28 20:45:00   1.0   \n3     1  2022-05-28 17:05:00   1.0   \n4     0  2022-05-28 23:10:00   1.0   \n\n                                               route  ...  day  dayofyear  \\\n0     {'source': 'Chennai', 'destination': 'Mumbai'}  ...    3        215   \n1       {'source': 'Delhi', 'destination': 'Mumbai'}  ...    3        184   \n2   {'source': 'Bangalore', 'destination': 'Mumbai'}  ...   24         83   \n3    {'source': 'Delhi', 'destination': 'Bangalore'}  ...   27         86   \n4  {'source': 'Bangalore', 'destination': 'Hydera...  ...    3        184   \n\n   dep_hour  dep_minute  hours_taken  minutes_taken  arr_hour  arr_minute  \\\n0         9          55         11.0           20.0        21          15   \n1        18          30          4.0           55.0        23          25   \n2        13           5          7.0           40.0        20          45   \n3        18          40         22.0           25.0        17           5   \n4        21          55          1.0           15.0        23          10   \n\n       source  destination  \n0     Chennai       Mumbai  \n1       Delhi       Mumbai  \n2   Bangalore       Mumbai  \n3       Delhi    Bangalore  \n4   Bangalore    Hyderabad  \n\n[5 rows x 22 columns]",
      "text/html": "<div>\n<style scoped>\n    .dataframe tbody tr th:only-of-type {\n        vertical-align: middle;\n    }\n\n    .dataframe tbody tr th {\n        vertical-align: top;\n    }\n\n    .dataframe thead th {\n        text-align: right;\n    }\n</style>\n<table border=\"1\" class=\"dataframe\">\n  <thead>\n    <tr style=\"text-align: right;\">\n      <th></th>\n      <th>date</th>\n      <th>airline</th>\n      <th>ch_code</th>\n      <th>num_code</th>\n      <th>dep_time</th>\n      <th>time_taken</th>\n      <th>stop</th>\n      <th>arr_time</th>\n      <th>type</th>\n      <th>route</th>\n      <th>...</th>\n      <th>day</th>\n      <th>dayofyear</th>\n      <th>dep_hour</th>\n      <th>dep_minute</th>\n      <th>hours_taken</th>\n      <th>minutes_taken</th>\n      <th>arr_hour</th>\n      <th>arr_minute</th>\n      <th>source</th>\n      <th>destination</th>\n    </tr>\n  </thead>\n  <tbody>\n    <tr>\n      <th>0</th>\n      <td>08/03/2022</td>\n      <td>Air India</td>\n      <td>2.0</td>\n      <td>430</td>\n      <td>2022-05-28 09:55:00</td>\n      <td>11h 20m</td>\n      <td>1</td>\n      <td>2022-05-28 21:15:00</td>\n      <td>1.0</td>\n      <td>{'source': 'Chennai', 'destination': 'Mumbai'}</td>\n      <td>...</td>\n      <td>3</td>\n      <td>215</td>\n      <td>9</td>\n      <td>55</td>\n      <td>11.0</td>\n      <td>20.0</td>\n      <td>21</td>\n      <td>15</td>\n      <td>Chennai</td>\n      <td>Mumbai</td>\n    </tr>\n    <tr>\n      <th>1</th>\n      <td>07/03/2022</td>\n      <td>Indigo</td>\n      <td>1.0</td>\n      <td>926</td>\n      <td>2022-05-28 18:30:00</td>\n      <td>04h 55m</td>\n      <td>1</td>\n      <td>2022-05-28 23:25:00</td>\n      <td>1.0</td>\n      <td>{'source': 'Delhi', 'destination': 'Mumbai'}</td>\n      <td>...</td>\n      <td>3</td>\n      <td>184</td>\n      <td>18</td>\n      <td>30</td>\n      <td>4.0</td>\n      <td>55.0</td>\n      <td>23</td>\n      <td>25</td>\n      <td>Delhi</td>\n      <td>Mumbai</td>\n    </tr>\n    <tr>\n      <th>2</th>\n      <td>03/24/2022</td>\n      <td>Indigo</td>\n      <td>1.0</td>\n      <td>6491</td>\n      <td>2022-05-28 13:05:00</td>\n      <td>07h 40m</td>\n      <td>1</td>\n      <td>2022-05-28 20:45:00</td>\n      <td>1.0</td>\n      <td>{'source': 'Bangalore', 'destination': 'Mumbai'}</td>\n      <td>...</td>\n      <td>24</td>\n      <td>83</td>\n      <td>13</td>\n      <td>5</td>\n      <td>7.0</td>\n      <td>40.0</td>\n      <td>20</td>\n      <td>45</td>\n      <td>Bangalore</td>\n      <td>Mumbai</td>\n    </tr>\n    <tr>\n      <th>3</th>\n      <td>03/27/2022</td>\n      <td>Air India</td>\n      <td>2.0</td>\n      <td>473</td>\n      <td>2022-05-28 18:40:00</td>\n      <td>22h 25m</td>\n      <td>1</td>\n      <td>2022-05-28 17:05:00</td>\n      <td>1.0</td>\n      <td>{'source': 'Delhi', 'destination': 'Bangalore'}</td>\n      <td>...</td>\n      <td>27</td>\n      <td>86</td>\n      <td>18</td>\n      <td>40</td>\n      <td>22.0</td>\n      <td>25.0</td>\n      <td>17</td>\n      <td>5</td>\n      <td>Delhi</td>\n      <td>Bangalore</td>\n    </tr>\n    <tr>\n      <th>4</th>\n      <td>07/03/2022</td>\n      <td>Indigo</td>\n      <td>1.0</td>\n      <td>684</td>\n      <td>2022-05-28 21:55:00</td>\n      <td>01h 15m</td>\n      <td>0</td>\n      <td>2022-05-28 23:10:00</td>\n      <td>1.0</td>\n      <td>{'source': 'Bangalore', 'destination': 'Hydera...</td>\n      <td>...</td>\n      <td>3</td>\n      <td>184</td>\n      <td>21</td>\n      <td>55</td>\n      <td>1.0</td>\n      <td>15.0</td>\n      <td>23</td>\n      <td>10</td>\n      <td>Bangalore</td>\n      <td>Hyderabad</td>\n    </tr>\n  </tbody>\n</table>\n<p>5 rows × 22 columns</p>\n</div>"
     },
     "execution_count": 86,
     "metadata": {},
     "output_type": "execute_result"
    }
   ],
   "source": [
    "type_enc = joblib.load(\"EncoderModels/type_enc.save\")\n",
    "df['type'] = type_enc.transform(df[[\"type\"]])\n",
    "df.head()"
   ],
   "metadata": {
    "collapsed": false,
    "pycharm": {
     "name": "#%%\n"
    }
   }
  },
  {
   "cell_type": "markdown",
   "source": [
    "#### Loading Source Encoder :"
   ],
   "metadata": {
    "collapsed": false,
    "pycharm": {
     "name": "#%% md\n"
    }
   }
  },
  {
   "cell_type": "code",
   "execution_count": 87,
   "outputs": [
    {
     "data": {
      "text/plain": "         date    airline  ch_code  num_code             dep_time time_taken  \\\n0  08/03/2022  Air India      2.0       430  2022-05-28 09:55:00    11h 20m   \n1  07/03/2022     Indigo      1.0       926  2022-05-28 18:30:00    04h 55m   \n2  03/24/2022     Indigo      1.0      6491  2022-05-28 13:05:00    07h 40m   \n3  03/27/2022  Air India      2.0       473  2022-05-28 18:40:00    22h 25m   \n4  07/03/2022     Indigo      1.0       684  2022-05-28 21:55:00    01h 15m   \n\n   stop             arr_time  type  \\\n0     1  2022-05-28 21:15:00   1.0   \n1     1  2022-05-28 23:25:00   1.0   \n2     1  2022-05-28 20:45:00   1.0   \n3     1  2022-05-28 17:05:00   1.0   \n4     0  2022-05-28 23:10:00   1.0   \n\n                                               route  ...  day  dayofyear  \\\n0     {'source': 'Chennai', 'destination': 'Mumbai'}  ...    3        215   \n1       {'source': 'Delhi', 'destination': 'Mumbai'}  ...    3        184   \n2   {'source': 'Bangalore', 'destination': 'Mumbai'}  ...   24         83   \n3    {'source': 'Delhi', 'destination': 'Bangalore'}  ...   27         86   \n4  {'source': 'Bangalore', 'destination': 'Hydera...  ...    3        184   \n\n   dep_hour  dep_minute  hours_taken  minutes_taken  arr_hour  arr_minute  \\\n0         9          55         11.0           20.0        21          15   \n1        18          30          4.0           55.0        23          25   \n2        13           5          7.0           40.0        20          45   \n3        18          40         22.0           25.0        17           5   \n4        21          55          1.0           15.0        23          10   \n\n   source  destination  \n0     1.0       Mumbai  \n1     2.0       Mumbai  \n2     0.0       Mumbai  \n3     2.0    Bangalore  \n4     0.0    Hyderabad  \n\n[5 rows x 22 columns]",
      "text/html": "<div>\n<style scoped>\n    .dataframe tbody tr th:only-of-type {\n        vertical-align: middle;\n    }\n\n    .dataframe tbody tr th {\n        vertical-align: top;\n    }\n\n    .dataframe thead th {\n        text-align: right;\n    }\n</style>\n<table border=\"1\" class=\"dataframe\">\n  <thead>\n    <tr style=\"text-align: right;\">\n      <th></th>\n      <th>date</th>\n      <th>airline</th>\n      <th>ch_code</th>\n      <th>num_code</th>\n      <th>dep_time</th>\n      <th>time_taken</th>\n      <th>stop</th>\n      <th>arr_time</th>\n      <th>type</th>\n      <th>route</th>\n      <th>...</th>\n      <th>day</th>\n      <th>dayofyear</th>\n      <th>dep_hour</th>\n      <th>dep_minute</th>\n      <th>hours_taken</th>\n      <th>minutes_taken</th>\n      <th>arr_hour</th>\n      <th>arr_minute</th>\n      <th>source</th>\n      <th>destination</th>\n    </tr>\n  </thead>\n  <tbody>\n    <tr>\n      <th>0</th>\n      <td>08/03/2022</td>\n      <td>Air India</td>\n      <td>2.0</td>\n      <td>430</td>\n      <td>2022-05-28 09:55:00</td>\n      <td>11h 20m</td>\n      <td>1</td>\n      <td>2022-05-28 21:15:00</td>\n      <td>1.0</td>\n      <td>{'source': 'Chennai', 'destination': 'Mumbai'}</td>\n      <td>...</td>\n      <td>3</td>\n      <td>215</td>\n      <td>9</td>\n      <td>55</td>\n      <td>11.0</td>\n      <td>20.0</td>\n      <td>21</td>\n      <td>15</td>\n      <td>1.0</td>\n      <td>Mumbai</td>\n    </tr>\n    <tr>\n      <th>1</th>\n      <td>07/03/2022</td>\n      <td>Indigo</td>\n      <td>1.0</td>\n      <td>926</td>\n      <td>2022-05-28 18:30:00</td>\n      <td>04h 55m</td>\n      <td>1</td>\n      <td>2022-05-28 23:25:00</td>\n      <td>1.0</td>\n      <td>{'source': 'Delhi', 'destination': 'Mumbai'}</td>\n      <td>...</td>\n      <td>3</td>\n      <td>184</td>\n      <td>18</td>\n      <td>30</td>\n      <td>4.0</td>\n      <td>55.0</td>\n      <td>23</td>\n      <td>25</td>\n      <td>2.0</td>\n      <td>Mumbai</td>\n    </tr>\n    <tr>\n      <th>2</th>\n      <td>03/24/2022</td>\n      <td>Indigo</td>\n      <td>1.0</td>\n      <td>6491</td>\n      <td>2022-05-28 13:05:00</td>\n      <td>07h 40m</td>\n      <td>1</td>\n      <td>2022-05-28 20:45:00</td>\n      <td>1.0</td>\n      <td>{'source': 'Bangalore', 'destination': 'Mumbai'}</td>\n      <td>...</td>\n      <td>24</td>\n      <td>83</td>\n      <td>13</td>\n      <td>5</td>\n      <td>7.0</td>\n      <td>40.0</td>\n      <td>20</td>\n      <td>45</td>\n      <td>0.0</td>\n      <td>Mumbai</td>\n    </tr>\n    <tr>\n      <th>3</th>\n      <td>03/27/2022</td>\n      <td>Air India</td>\n      <td>2.0</td>\n      <td>473</td>\n      <td>2022-05-28 18:40:00</td>\n      <td>22h 25m</td>\n      <td>1</td>\n      <td>2022-05-28 17:05:00</td>\n      <td>1.0</td>\n      <td>{'source': 'Delhi', 'destination': 'Bangalore'}</td>\n      <td>...</td>\n      <td>27</td>\n      <td>86</td>\n      <td>18</td>\n      <td>40</td>\n      <td>22.0</td>\n      <td>25.0</td>\n      <td>17</td>\n      <td>5</td>\n      <td>2.0</td>\n      <td>Bangalore</td>\n    </tr>\n    <tr>\n      <th>4</th>\n      <td>07/03/2022</td>\n      <td>Indigo</td>\n      <td>1.0</td>\n      <td>684</td>\n      <td>2022-05-28 21:55:00</td>\n      <td>01h 15m</td>\n      <td>0</td>\n      <td>2022-05-28 23:10:00</td>\n      <td>1.0</td>\n      <td>{'source': 'Bangalore', 'destination': 'Hydera...</td>\n      <td>...</td>\n      <td>3</td>\n      <td>184</td>\n      <td>21</td>\n      <td>55</td>\n      <td>1.0</td>\n      <td>15.0</td>\n      <td>23</td>\n      <td>10</td>\n      <td>0.0</td>\n      <td>Hyderabad</td>\n    </tr>\n  </tbody>\n</table>\n<p>5 rows × 22 columns</p>\n</div>"
     },
     "execution_count": 87,
     "metadata": {},
     "output_type": "execute_result"
    }
   ],
   "source": [
    "source_enc = joblib.load(\"EncoderModels/source_enc.save\")\n",
    "df['source'] = source_enc.transform(df[[\"source\"]])\n",
    "df.head()"
   ],
   "metadata": {
    "collapsed": false,
    "pycharm": {
     "name": "#%%\n"
    }
   }
  },
  {
   "cell_type": "markdown",
   "source": [
    "#### Loading Destination Encoder :"
   ],
   "metadata": {
    "collapsed": false,
    "pycharm": {
     "name": "#%% md\n"
    }
   }
  },
  {
   "cell_type": "code",
   "execution_count": 88,
   "outputs": [
    {
     "data": {
      "text/plain": "         date    airline  ch_code  num_code             dep_time time_taken  \\\n0  08/03/2022  Air India      2.0       430  2022-05-28 09:55:00    11h 20m   \n1  07/03/2022     Indigo      1.0       926  2022-05-28 18:30:00    04h 55m   \n2  03/24/2022     Indigo      1.0      6491  2022-05-28 13:05:00    07h 40m   \n3  03/27/2022  Air India      2.0       473  2022-05-28 18:40:00    22h 25m   \n4  07/03/2022     Indigo      1.0       684  2022-05-28 21:55:00    01h 15m   \n\n   stop             arr_time  type  \\\n0     1  2022-05-28 21:15:00   1.0   \n1     1  2022-05-28 23:25:00   1.0   \n2     1  2022-05-28 20:45:00   1.0   \n3     1  2022-05-28 17:05:00   1.0   \n4     0  2022-05-28 23:10:00   1.0   \n\n                                               route  ...  day  dayofyear  \\\n0     {'source': 'Chennai', 'destination': 'Mumbai'}  ...    3        215   \n1       {'source': 'Delhi', 'destination': 'Mumbai'}  ...    3        184   \n2   {'source': 'Bangalore', 'destination': 'Mumbai'}  ...   24         83   \n3    {'source': 'Delhi', 'destination': 'Bangalore'}  ...   27         86   \n4  {'source': 'Bangalore', 'destination': 'Hydera...  ...    3        184   \n\n   dep_hour  dep_minute  hours_taken  minutes_taken  arr_hour  arr_minute  \\\n0         9          55         11.0           20.0        21          15   \n1        18          30          4.0           55.0        23          25   \n2        13           5          7.0           40.0        20          45   \n3        18          40         22.0           25.0        17           5   \n4        21          55          1.0           15.0        23          10   \n\n   source  destination  \n0     1.0          5.0  \n1     2.0          5.0  \n2     0.0          5.0  \n3     2.0          0.0  \n4     0.0          3.0  \n\n[5 rows x 22 columns]",
      "text/html": "<div>\n<style scoped>\n    .dataframe tbody tr th:only-of-type {\n        vertical-align: middle;\n    }\n\n    .dataframe tbody tr th {\n        vertical-align: top;\n    }\n\n    .dataframe thead th {\n        text-align: right;\n    }\n</style>\n<table border=\"1\" class=\"dataframe\">\n  <thead>\n    <tr style=\"text-align: right;\">\n      <th></th>\n      <th>date</th>\n      <th>airline</th>\n      <th>ch_code</th>\n      <th>num_code</th>\n      <th>dep_time</th>\n      <th>time_taken</th>\n      <th>stop</th>\n      <th>arr_time</th>\n      <th>type</th>\n      <th>route</th>\n      <th>...</th>\n      <th>day</th>\n      <th>dayofyear</th>\n      <th>dep_hour</th>\n      <th>dep_minute</th>\n      <th>hours_taken</th>\n      <th>minutes_taken</th>\n      <th>arr_hour</th>\n      <th>arr_minute</th>\n      <th>source</th>\n      <th>destination</th>\n    </tr>\n  </thead>\n  <tbody>\n    <tr>\n      <th>0</th>\n      <td>08/03/2022</td>\n      <td>Air India</td>\n      <td>2.0</td>\n      <td>430</td>\n      <td>2022-05-28 09:55:00</td>\n      <td>11h 20m</td>\n      <td>1</td>\n      <td>2022-05-28 21:15:00</td>\n      <td>1.0</td>\n      <td>{'source': 'Chennai', 'destination': 'Mumbai'}</td>\n      <td>...</td>\n      <td>3</td>\n      <td>215</td>\n      <td>9</td>\n      <td>55</td>\n      <td>11.0</td>\n      <td>20.0</td>\n      <td>21</td>\n      <td>15</td>\n      <td>1.0</td>\n      <td>5.0</td>\n    </tr>\n    <tr>\n      <th>1</th>\n      <td>07/03/2022</td>\n      <td>Indigo</td>\n      <td>1.0</td>\n      <td>926</td>\n      <td>2022-05-28 18:30:00</td>\n      <td>04h 55m</td>\n      <td>1</td>\n      <td>2022-05-28 23:25:00</td>\n      <td>1.0</td>\n      <td>{'source': 'Delhi', 'destination': 'Mumbai'}</td>\n      <td>...</td>\n      <td>3</td>\n      <td>184</td>\n      <td>18</td>\n      <td>30</td>\n      <td>4.0</td>\n      <td>55.0</td>\n      <td>23</td>\n      <td>25</td>\n      <td>2.0</td>\n      <td>5.0</td>\n    </tr>\n    <tr>\n      <th>2</th>\n      <td>03/24/2022</td>\n      <td>Indigo</td>\n      <td>1.0</td>\n      <td>6491</td>\n      <td>2022-05-28 13:05:00</td>\n      <td>07h 40m</td>\n      <td>1</td>\n      <td>2022-05-28 20:45:00</td>\n      <td>1.0</td>\n      <td>{'source': 'Bangalore', 'destination': 'Mumbai'}</td>\n      <td>...</td>\n      <td>24</td>\n      <td>83</td>\n      <td>13</td>\n      <td>5</td>\n      <td>7.0</td>\n      <td>40.0</td>\n      <td>20</td>\n      <td>45</td>\n      <td>0.0</td>\n      <td>5.0</td>\n    </tr>\n    <tr>\n      <th>3</th>\n      <td>03/27/2022</td>\n      <td>Air India</td>\n      <td>2.0</td>\n      <td>473</td>\n      <td>2022-05-28 18:40:00</td>\n      <td>22h 25m</td>\n      <td>1</td>\n      <td>2022-05-28 17:05:00</td>\n      <td>1.0</td>\n      <td>{'source': 'Delhi', 'destination': 'Bangalore'}</td>\n      <td>...</td>\n      <td>27</td>\n      <td>86</td>\n      <td>18</td>\n      <td>40</td>\n      <td>22.0</td>\n      <td>25.0</td>\n      <td>17</td>\n      <td>5</td>\n      <td>2.0</td>\n      <td>0.0</td>\n    </tr>\n    <tr>\n      <th>4</th>\n      <td>07/03/2022</td>\n      <td>Indigo</td>\n      <td>1.0</td>\n      <td>684</td>\n      <td>2022-05-28 21:55:00</td>\n      <td>01h 15m</td>\n      <td>0</td>\n      <td>2022-05-28 23:10:00</td>\n      <td>1.0</td>\n      <td>{'source': 'Bangalore', 'destination': 'Hydera...</td>\n      <td>...</td>\n      <td>3</td>\n      <td>184</td>\n      <td>21</td>\n      <td>55</td>\n      <td>1.0</td>\n      <td>15.0</td>\n      <td>23</td>\n      <td>10</td>\n      <td>0.0</td>\n      <td>3.0</td>\n    </tr>\n  </tbody>\n</table>\n<p>5 rows × 22 columns</p>\n</div>"
     },
     "execution_count": 88,
     "metadata": {},
     "output_type": "execute_result"
    }
   ],
   "source": [
    "destination_enc = joblib.load(\"EncoderModels/destination_enc.save\")\n",
    "df['destination'] = source_enc.transform(df[[\"destination\"]])\n",
    "df.head()"
   ],
   "metadata": {
    "collapsed": false,
    "pycharm": {
     "name": "#%%\n"
    }
   }
  },
  {
   "cell_type": "markdown",
   "source": [
    "#### Cleaning Data"
   ],
   "metadata": {
    "collapsed": false,
    "pycharm": {
     "name": "#%% md\n"
    }
   }
  },
  {
   "cell_type": "code",
   "execution_count": 89,
   "outputs": [
    {
     "data": {
      "text/plain": "   ch_code  num_code  stop  type  TicketCategory  month  day  dayofyear  \\\n0      2.0       430     1   1.0             0.0      8    3        215   \n1      1.0       926     1   1.0             0.0      7    3        184   \n2      1.0      6491     1   1.0             0.0      3   24         83   \n3      2.0       473     1   1.0             0.0      3   27         86   \n4      1.0       684     0   1.0             0.0      7    3        184   \n\n   dep_hour  dep_minute  hours_taken  minutes_taken  arr_hour  arr_minute  \\\n0         9          55         11.0           20.0        21          15   \n1        18          30          4.0           55.0        23          25   \n2        13           5          7.0           40.0        20          45   \n3        18          40         22.0           25.0        17           5   \n4        21          55          1.0           15.0        23          10   \n\n   source  destination  \n0     1.0          5.0  \n1     2.0          5.0  \n2     0.0          5.0  \n3     2.0          0.0  \n4     0.0          3.0  ",
      "text/html": "<div>\n<style scoped>\n    .dataframe tbody tr th:only-of-type {\n        vertical-align: middle;\n    }\n\n    .dataframe tbody tr th {\n        vertical-align: top;\n    }\n\n    .dataframe thead th {\n        text-align: right;\n    }\n</style>\n<table border=\"1\" class=\"dataframe\">\n  <thead>\n    <tr style=\"text-align: right;\">\n      <th></th>\n      <th>ch_code</th>\n      <th>num_code</th>\n      <th>stop</th>\n      <th>type</th>\n      <th>TicketCategory</th>\n      <th>month</th>\n      <th>day</th>\n      <th>dayofyear</th>\n      <th>dep_hour</th>\n      <th>dep_minute</th>\n      <th>hours_taken</th>\n      <th>minutes_taken</th>\n      <th>arr_hour</th>\n      <th>arr_minute</th>\n      <th>source</th>\n      <th>destination</th>\n    </tr>\n  </thead>\n  <tbody>\n    <tr>\n      <th>0</th>\n      <td>2.0</td>\n      <td>430</td>\n      <td>1</td>\n      <td>1.0</td>\n      <td>0.0</td>\n      <td>8</td>\n      <td>3</td>\n      <td>215</td>\n      <td>9</td>\n      <td>55</td>\n      <td>11.0</td>\n      <td>20.0</td>\n      <td>21</td>\n      <td>15</td>\n      <td>1.0</td>\n      <td>5.0</td>\n    </tr>\n    <tr>\n      <th>1</th>\n      <td>1.0</td>\n      <td>926</td>\n      <td>1</td>\n      <td>1.0</td>\n      <td>0.0</td>\n      <td>7</td>\n      <td>3</td>\n      <td>184</td>\n      <td>18</td>\n      <td>30</td>\n      <td>4.0</td>\n      <td>55.0</td>\n      <td>23</td>\n      <td>25</td>\n      <td>2.0</td>\n      <td>5.0</td>\n    </tr>\n    <tr>\n      <th>2</th>\n      <td>1.0</td>\n      <td>6491</td>\n      <td>1</td>\n      <td>1.0</td>\n      <td>0.0</td>\n      <td>3</td>\n      <td>24</td>\n      <td>83</td>\n      <td>13</td>\n      <td>5</td>\n      <td>7.0</td>\n      <td>40.0</td>\n      <td>20</td>\n      <td>45</td>\n      <td>0.0</td>\n      <td>5.0</td>\n    </tr>\n    <tr>\n      <th>3</th>\n      <td>2.0</td>\n      <td>473</td>\n      <td>1</td>\n      <td>1.0</td>\n      <td>0.0</td>\n      <td>3</td>\n      <td>27</td>\n      <td>86</td>\n      <td>18</td>\n      <td>40</td>\n      <td>22.0</td>\n      <td>25.0</td>\n      <td>17</td>\n      <td>5</td>\n      <td>2.0</td>\n      <td>0.0</td>\n    </tr>\n    <tr>\n      <th>4</th>\n      <td>1.0</td>\n      <td>684</td>\n      <td>0</td>\n      <td>1.0</td>\n      <td>0.0</td>\n      <td>7</td>\n      <td>3</td>\n      <td>184</td>\n      <td>21</td>\n      <td>55</td>\n      <td>1.0</td>\n      <td>15.0</td>\n      <td>23</td>\n      <td>10</td>\n      <td>0.0</td>\n      <td>3.0</td>\n    </tr>\n  </tbody>\n</table>\n</div>"
     },
     "execution_count": 89,
     "metadata": {},
     "output_type": "execute_result"
    }
   ],
   "source": [
    "df = df.fillna(-1)\n",
    "df = df.drop(['airline', 'date', 'dep_time', \"time_taken\", 'arr_time', 'route',], axis=1)\n",
    "df.head()"
   ],
   "metadata": {
    "collapsed": false,
    "pycharm": {
     "name": "#%%\n"
    }
   }
  },
  {
   "cell_type": "code",
   "execution_count": 90,
   "outputs": [],
   "source": [
    "X = df.loc[:, df.columns != 'TicketCategory']\n",
    "Y = df['TicketCategory']"
   ],
   "metadata": {
    "collapsed": false,
    "pycharm": {
     "name": "#%%\n"
    }
   }
  },
  {
   "cell_type": "markdown",
   "source": [
    "#### Loading Scaler Model :"
   ],
   "metadata": {
    "collapsed": false,
    "pycharm": {
     "name": "#%% md\n"
    }
   }
  },
  {
   "cell_type": "code",
   "execution_count": 91,
   "outputs": [],
   "source": [
    "scaler = joblib.load(\"scaler.save\")\n",
    "X_scaled = scaler.transform(X)"
   ],
   "metadata": {
    "collapsed": false,
    "pycharm": {
     "name": "#%%\n"
    }
   }
  },
  {
   "cell_type": "code",
   "execution_count": 92,
   "outputs": [],
   "source": [
    "from sklearn.neighbors import KNeighborsClassifier\n",
    "from sklearn.metrics import classification_report,accuracy_score\n",
    "from sklearn import svm\n",
    "from sklearn.linear_model import LogisticRegression\n",
    "from sklearn.tree import DecisionTreeClassifier\n",
    "from sklearn.neural_network import MLPClassifier\n",
    "from sklearn.ensemble import RandomForestClassifier\n",
    "from sklearn.linear_model import RidgeClassifier"
   ],
   "metadata": {
    "collapsed": false,
    "pycharm": {
     "name": "#%%\n"
    }
   }
  },
  {
   "cell_type": "markdown",
   "source": [
    "#### Loading Classification model :"
   ],
   "metadata": {
    "collapsed": false,
    "pycharm": {
     "name": "#%% md\n"
    }
   }
  },
  {
   "cell_type": "code",
   "execution_count": 93,
   "outputs": [],
   "source": [
    "rfc_model = joblib.load(\"PredictionModels\\RandomForestClassifier(n_jobs=-1, random_state=42)_ClassificationModel.save\")\n",
    "dtc_model = joblib.load(\"PredictionModels\\DecisionTreeClassifier(max_depth=50, random_state=42)_ClassificationModel.save\")\n",
    "knn_model = joblib.load(\"PredictionModels\\KNeighborsClassifier()_ClassificationModel.save\")\n",
    "logestic_model = joblib.load(\"PredictionModels\\LogisticRegression(C=0.1)_ClassificationModel.save\")\n",
    "mlpc_model = joblib.load(\"PredictionModels\\MLPClassifier(activation='tanh', hidden_layer_sizes=(150, 100, 50), max_iter=50)_ClassificationModel.save\")\n",
    "ridge_model = joblib.load(\"PredictionModels\\RidgeClassifier(alpha=0.1)_ClassificationModel.save\")"
   ],
   "metadata": {
    "collapsed": false,
    "pycharm": {
     "name": "#%%\n"
    }
   }
  },
  {
   "cell_type": "code",
   "execution_count": 94,
   "outputs": [
    {
     "name": "stdout",
     "output_type": "stream",
     "text": [
      "Accuracy of: RandomForestClassifier(n_jobs=-1, random_state=42):0.95835\n",
      "\n",
      "\n",
      "              precision    recall  f1-score   support\n",
      "\n",
      "         0.0       0.93      0.95      0.94      5380\n",
      "         1.0       0.95      0.96      0.96      1954\n",
      "         2.0       0.96      0.96      0.96      8621\n",
      "         3.0       0.99      0.98      0.98      4045\n",
      "\n",
      "    accuracy                           0.96     20000\n",
      "   macro avg       0.96      0.96      0.96     20000\n",
      "weighted avg       0.96      0.96      0.96     20000\n",
      "\n",
      "Accuracy of: DecisionTreeClassifier(max_depth=50, random_state=42):0.95515\n",
      "\n",
      "\n",
      "              precision    recall  f1-score   support\n",
      "\n",
      "         0.0       0.93      0.94      0.93      5380\n",
      "         1.0       0.96      0.96      0.96      1954\n",
      "         2.0       0.96      0.95      0.95      8621\n",
      "         3.0       0.98      0.99      0.98      4045\n",
      "\n",
      "    accuracy                           0.96     20000\n",
      "   macro avg       0.96      0.96      0.96     20000\n",
      "weighted avg       0.96      0.96      0.96     20000\n",
      "\n",
      "Accuracy of: KNeighborsClassifier():0.89365\n",
      "\n",
      "\n",
      "              precision    recall  f1-score   support\n",
      "\n",
      "         0.0       0.84      0.85      0.85      5380\n",
      "         1.0       0.88      0.87      0.88      1954\n",
      "         2.0       0.90      0.90      0.90      8621\n",
      "         3.0       0.95      0.95      0.95      4045\n",
      "\n",
      "    accuracy                           0.89     20000\n",
      "   macro avg       0.89      0.89      0.89     20000\n",
      "weighted avg       0.89      0.89      0.89     20000\n",
      "\n",
      "Accuracy of: LogisticRegression(C=0.1):0.71535\n",
      "\n",
      "\n",
      "              precision    recall  f1-score   support\n",
      "\n",
      "         0.0       0.71      0.51      0.59      5380\n",
      "         1.0       0.53      0.25      0.33      1954\n",
      "         2.0       0.73      0.86      0.79      8621\n",
      "         3.0       0.73      0.91      0.81      4045\n",
      "\n",
      "    accuracy                           0.72     20000\n",
      "   macro avg       0.67      0.63      0.63     20000\n",
      "weighted avg       0.70      0.72      0.70     20000\n",
      "\n",
      "Accuracy of: MLPClassifier(activation='tanh', hidden_layer_sizes=(150, 100, 50), max_iter=50):0.94305\n",
      "\n",
      "\n",
      "              precision    recall  f1-score   support\n",
      "\n",
      "         0.0       0.92      0.92      0.92      5380\n",
      "         1.0       0.94      0.93      0.93      1954\n",
      "         2.0       0.95      0.95      0.95      8621\n",
      "         3.0       0.97      0.97      0.97      4045\n",
      "\n",
      "    accuracy                           0.94     20000\n",
      "   macro avg       0.94      0.94      0.94     20000\n",
      "weighted avg       0.94      0.94      0.94     20000\n",
      "\n",
      "Accuracy of: RidgeClassifier(alpha=0.1):0.70785\n",
      "\n",
      "\n",
      "              precision    recall  f1-score   support\n",
      "\n",
      "         0.0       0.74      0.53      0.62      5380\n",
      "         1.0       0.00      0.00      0.00      1954\n",
      "         2.0       0.74      0.84      0.79      8621\n",
      "         3.0       0.64      1.00      0.78      4045\n",
      "\n",
      "    accuracy                           0.71     20000\n",
      "   macro avg       0.53      0.59      0.55     20000\n",
      "weighted avg       0.65      0.71      0.66     20000\n",
      "\n"
     ]
    }
   ],
   "source": [
    "for i, clf in enumerate((rfc_model, dtc_model, knn_model, logestic_model, mlpc_model, ridge_model)):\n",
    "    predictions = clf.predict(X_scaled)\n",
    "    print(\"Accuracy of: \" + str(clf)+\":\"+str(accuracy_score(Y, predictions)))\n",
    "    print('\\n')\n",
    "    print(classification_report(Y, predictions))\n"
   ],
   "metadata": {
    "collapsed": false,
    "pycharm": {
     "name": "#%%\n"
    }
   }
  }
 ],
 "metadata": {
  "kernelspec": {
   "display_name": "Python 3",
   "language": "python",
   "name": "python3"
  },
  "language_info": {
   "codemirror_mode": {
    "name": "ipython",
    "version": 2
   },
   "file_extension": ".py",
   "mimetype": "text/x-python",
   "name": "python",
   "nbconvert_exporter": "python",
   "pygments_lexer": "ipython2",
   "version": "2.7.6"
  }
 },
 "nbformat": 4,
 "nbformat_minor": 0
}