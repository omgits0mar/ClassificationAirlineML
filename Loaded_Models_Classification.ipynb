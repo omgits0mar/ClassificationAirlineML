{
 "cells": [
  {
   "cell_type": "code",
   "execution_count": 54,
   "metadata": {
    "collapsed": true
   },
   "outputs": [],
   "source": [
    "import numpy as np\n",
    "import pandas as pd\n",
    "import seaborn as sns\n",
    "import matplotlib.pyplot as plt\n",
    "import re\n",
    "import datetime\n",
    "\n",
    "from sklearn.metrics import mean_squared_error, r2_score\n",
    "from sklearn import metrics\n",
    "from sklearn.model_selection import train_test_split\n",
    "from sklearn.preprocessing import OrdinalEncoder\n",
    "from sklearn.preprocessing import StandardScaler\n",
    "import joblib"
   ]
  },
  {
   "cell_type": "code",
   "execution_count": 55,
   "outputs": [
    {
     "data": {
      "text/plain": "         date    airline ch_code  num_code dep_time time_taken  \\\n0   12/2/2022    Vistara      UK       852     9:30    11h 10m   \n1    3/3/2022     Indigo      6E       248    22:20    02h 05m   \n2  19-03-2022  Air India      AI       570     5:20    07h 40m   \n\n                                                stop arr_time     type  \\\n0  1-stop\\n\\t\\t\\t\\t\\t\\t\\t\\t\\t\\t\\t\\t\\n\\t\\t\\t\\t\\t\\t...    20:40  economy   \n1                                          non-stop      0:25  economy   \n2  1-stop\\n\\t\\t\\t\\t\\t\\t\\t\\t\\t\\t\\t\\t\\n\\t\\t\\t\\t\\t\\t...    13:00  economy   \n\n                                             route TicketCategory  \n0  {'source': 'Bangalore', 'destination': 'Delhi'}       moderate  \n1     {'source': 'Mumbai', 'destination': 'Delhi'}          cheap  \n2     {'source': 'Mumbai', 'destination': 'Delhi'}          cheap  ",
      "text/html": "<div>\n<style scoped>\n    .dataframe tbody tr th:only-of-type {\n        vertical-align: middle;\n    }\n\n    .dataframe tbody tr th {\n        vertical-align: top;\n    }\n\n    .dataframe thead th {\n        text-align: right;\n    }\n</style>\n<table border=\"1\" class=\"dataframe\">\n  <thead>\n    <tr style=\"text-align: right;\">\n      <th></th>\n      <th>date</th>\n      <th>airline</th>\n      <th>ch_code</th>\n      <th>num_code</th>\n      <th>dep_time</th>\n      <th>time_taken</th>\n      <th>stop</th>\n      <th>arr_time</th>\n      <th>type</th>\n      <th>route</th>\n      <th>TicketCategory</th>\n    </tr>\n  </thead>\n  <tbody>\n    <tr>\n      <th>0</th>\n      <td>12/2/2022</td>\n      <td>Vistara</td>\n      <td>UK</td>\n      <td>852</td>\n      <td>9:30</td>\n      <td>11h 10m</td>\n      <td>1-stop\\n\\t\\t\\t\\t\\t\\t\\t\\t\\t\\t\\t\\t\\n\\t\\t\\t\\t\\t\\t...</td>\n      <td>20:40</td>\n      <td>economy</td>\n      <td>{'source': 'Bangalore', 'destination': 'Delhi'}</td>\n      <td>moderate</td>\n    </tr>\n    <tr>\n      <th>1</th>\n      <td>3/3/2022</td>\n      <td>Indigo</td>\n      <td>6E</td>\n      <td>248</td>\n      <td>22:20</td>\n      <td>02h 05m</td>\n      <td>non-stop</td>\n      <td>0:25</td>\n      <td>economy</td>\n      <td>{'source': 'Mumbai', 'destination': 'Delhi'}</td>\n      <td>cheap</td>\n    </tr>\n    <tr>\n      <th>2</th>\n      <td>19-03-2022</td>\n      <td>Air India</td>\n      <td>AI</td>\n      <td>570</td>\n      <td>5:20</td>\n      <td>07h 40m</td>\n      <td>1-stop\\n\\t\\t\\t\\t\\t\\t\\t\\t\\t\\t\\t\\t\\n\\t\\t\\t\\t\\t\\t...</td>\n      <td>13:00</td>\n      <td>economy</td>\n      <td>{'source': 'Mumbai', 'destination': 'Delhi'}</td>\n      <td>cheap</td>\n    </tr>\n  </tbody>\n</table>\n</div>"
     },
     "execution_count": 55,
     "metadata": {},
     "output_type": "execute_result"
    }
   ],
   "source": [
    "df = pd.read_csv('Samples/airline-test-samples.csv')\n",
    "df.head()"
   ],
   "metadata": {
    "collapsed": false,
    "pycharm": {
     "name": "#%%\n"
    }
   }
  },
  {
   "cell_type": "code",
   "execution_count": 56,
   "outputs": [],
   "source": [
    "import warnings\n",
    "warnings.filterwarnings(\"ignore\")\n"
   ],
   "metadata": {
    "collapsed": false,
    "pycharm": {
     "name": "#%%\n"
    }
   }
  },
  {
   "cell_type": "markdown",
   "source": [
    "#### Loading TicketCategory Encoder :"
   ],
   "metadata": {
    "collapsed": false,
    "pycharm": {
     "name": "#%% md\n"
    }
   }
  },
  {
   "cell_type": "code",
   "execution_count": 57,
   "outputs": [
    {
     "data": {
      "text/plain": "         date    airline ch_code  num_code dep_time time_taken  \\\n0   12/2/2022    Vistara      UK       852     9:30    11h 10m   \n1    3/3/2022     Indigo      6E       248    22:20    02h 05m   \n2  19-03-2022  Air India      AI       570     5:20    07h 40m   \n\n                                                stop arr_time     type  \\\n0  1-stop\\n\\t\\t\\t\\t\\t\\t\\t\\t\\t\\t\\t\\t\\n\\t\\t\\t\\t\\t\\t...    20:40  economy   \n1                                          non-stop      0:25  economy   \n2  1-stop\\n\\t\\t\\t\\t\\t\\t\\t\\t\\t\\t\\t\\t\\n\\t\\t\\t\\t\\t\\t...    13:00  economy   \n\n                                             route  TicketCategory  \n0  {'source': 'Bangalore', 'destination': 'Delhi'}             2.0  \n1     {'source': 'Mumbai', 'destination': 'Delhi'}             0.0  \n2     {'source': 'Mumbai', 'destination': 'Delhi'}             0.0  ",
      "text/html": "<div>\n<style scoped>\n    .dataframe tbody tr th:only-of-type {\n        vertical-align: middle;\n    }\n\n    .dataframe tbody tr th {\n        vertical-align: top;\n    }\n\n    .dataframe thead th {\n        text-align: right;\n    }\n</style>\n<table border=\"1\" class=\"dataframe\">\n  <thead>\n    <tr style=\"text-align: right;\">\n      <th></th>\n      <th>date</th>\n      <th>airline</th>\n      <th>ch_code</th>\n      <th>num_code</th>\n      <th>dep_time</th>\n      <th>time_taken</th>\n      <th>stop</th>\n      <th>arr_time</th>\n      <th>type</th>\n      <th>route</th>\n      <th>TicketCategory</th>\n    </tr>\n  </thead>\n  <tbody>\n    <tr>\n      <th>0</th>\n      <td>12/2/2022</td>\n      <td>Vistara</td>\n      <td>UK</td>\n      <td>852</td>\n      <td>9:30</td>\n      <td>11h 10m</td>\n      <td>1-stop\\n\\t\\t\\t\\t\\t\\t\\t\\t\\t\\t\\t\\t\\n\\t\\t\\t\\t\\t\\t...</td>\n      <td>20:40</td>\n      <td>economy</td>\n      <td>{'source': 'Bangalore', 'destination': 'Delhi'}</td>\n      <td>2.0</td>\n    </tr>\n    <tr>\n      <th>1</th>\n      <td>3/3/2022</td>\n      <td>Indigo</td>\n      <td>6E</td>\n      <td>248</td>\n      <td>22:20</td>\n      <td>02h 05m</td>\n      <td>non-stop</td>\n      <td>0:25</td>\n      <td>economy</td>\n      <td>{'source': 'Mumbai', 'destination': 'Delhi'}</td>\n      <td>0.0</td>\n    </tr>\n    <tr>\n      <th>2</th>\n      <td>19-03-2022</td>\n      <td>Air India</td>\n      <td>AI</td>\n      <td>570</td>\n      <td>5:20</td>\n      <td>07h 40m</td>\n      <td>1-stop\\n\\t\\t\\t\\t\\t\\t\\t\\t\\t\\t\\t\\t\\n\\t\\t\\t\\t\\t\\t...</td>\n      <td>13:00</td>\n      <td>economy</td>\n      <td>{'source': 'Mumbai', 'destination': 'Delhi'}</td>\n      <td>0.0</td>\n    </tr>\n  </tbody>\n</table>\n</div>"
     },
     "execution_count": 57,
     "metadata": {},
     "output_type": "execute_result"
    }
   ],
   "source": [
    "price_enc = joblib.load(\"EncoderModels/price_enc.save\")\n",
    "df['TicketCategory'] = price_enc.transform(df[[\"TicketCategory\"]])\n",
    "df.head()"
   ],
   "metadata": {
    "collapsed": false,
    "pycharm": {
     "name": "#%%\n"
    }
   }
  },
  {
   "cell_type": "markdown",
   "source": [
    "#### Data preprocessing on Date"
   ],
   "metadata": {
    "collapsed": false,
    "pycharm": {
     "name": "#%% md\n"
    }
   }
  },
  {
   "cell_type": "code",
   "execution_count": 58,
   "outputs": [],
   "source": [
    "df[\"date\"]=pd.to_datetime(df[\"date\"])\n",
    "df[\"date\"]=df[\"date\"].dt.strftime(\"%m/%d/%Y\")\n",
    "pd.DatetimeIndex(df[\"date\"]).weekday\n",
    "df['month'] = pd.DatetimeIndex(df['date']).month\n",
    "df['day'] = pd.DatetimeIndex(df['date']).day\n",
    "df['dayofyear'] = pd.DatetimeIndex(df['date']).dayofyear"
   ],
   "metadata": {
    "collapsed": false,
    "pycharm": {
     "name": "#%%\n"
    }
   }
  },
  {
   "cell_type": "markdown",
   "source": [
    "#### Loading Ch_code Encoder :"
   ],
   "metadata": {
    "collapsed": false,
    "pycharm": {
     "name": "#%% md\n"
    }
   }
  },
  {
   "cell_type": "code",
   "execution_count": 59,
   "outputs": [
    {
     "data": {
      "text/plain": "         date    airline  ch_code  num_code dep_time time_taken  \\\n0  12/02/2022    Vistara      7.0       852     9:30    11h 10m   \n1  03/03/2022     Indigo      1.0       248    22:20    02h 05m   \n2  03/19/2022  Air India      2.0       570     5:20    07h 40m   \n\n                                                stop arr_time     type  \\\n0  1-stop\\n\\t\\t\\t\\t\\t\\t\\t\\t\\t\\t\\t\\t\\n\\t\\t\\t\\t\\t\\t...    20:40  economy   \n1                                          non-stop      0:25  economy   \n2  1-stop\\n\\t\\t\\t\\t\\t\\t\\t\\t\\t\\t\\t\\t\\n\\t\\t\\t\\t\\t\\t...    13:00  economy   \n\n                                             route  TicketCategory  month  \\\n0  {'source': 'Bangalore', 'destination': 'Delhi'}             2.0     12   \n1     {'source': 'Mumbai', 'destination': 'Delhi'}             0.0      3   \n2     {'source': 'Mumbai', 'destination': 'Delhi'}             0.0      3   \n\n   day  dayofyear  \n0    2        336  \n1    3         62  \n2   19         78  ",
      "text/html": "<div>\n<style scoped>\n    .dataframe tbody tr th:only-of-type {\n        vertical-align: middle;\n    }\n\n    .dataframe tbody tr th {\n        vertical-align: top;\n    }\n\n    .dataframe thead th {\n        text-align: right;\n    }\n</style>\n<table border=\"1\" class=\"dataframe\">\n  <thead>\n    <tr style=\"text-align: right;\">\n      <th></th>\n      <th>date</th>\n      <th>airline</th>\n      <th>ch_code</th>\n      <th>num_code</th>\n      <th>dep_time</th>\n      <th>time_taken</th>\n      <th>stop</th>\n      <th>arr_time</th>\n      <th>type</th>\n      <th>route</th>\n      <th>TicketCategory</th>\n      <th>month</th>\n      <th>day</th>\n      <th>dayofyear</th>\n    </tr>\n  </thead>\n  <tbody>\n    <tr>\n      <th>0</th>\n      <td>12/02/2022</td>\n      <td>Vistara</td>\n      <td>7.0</td>\n      <td>852</td>\n      <td>9:30</td>\n      <td>11h 10m</td>\n      <td>1-stop\\n\\t\\t\\t\\t\\t\\t\\t\\t\\t\\t\\t\\t\\n\\t\\t\\t\\t\\t\\t...</td>\n      <td>20:40</td>\n      <td>economy</td>\n      <td>{'source': 'Bangalore', 'destination': 'Delhi'}</td>\n      <td>2.0</td>\n      <td>12</td>\n      <td>2</td>\n      <td>336</td>\n    </tr>\n    <tr>\n      <th>1</th>\n      <td>03/03/2022</td>\n      <td>Indigo</td>\n      <td>1.0</td>\n      <td>248</td>\n      <td>22:20</td>\n      <td>02h 05m</td>\n      <td>non-stop</td>\n      <td>0:25</td>\n      <td>economy</td>\n      <td>{'source': 'Mumbai', 'destination': 'Delhi'}</td>\n      <td>0.0</td>\n      <td>3</td>\n      <td>3</td>\n      <td>62</td>\n    </tr>\n    <tr>\n      <th>2</th>\n      <td>03/19/2022</td>\n      <td>Air India</td>\n      <td>2.0</td>\n      <td>570</td>\n      <td>5:20</td>\n      <td>07h 40m</td>\n      <td>1-stop\\n\\t\\t\\t\\t\\t\\t\\t\\t\\t\\t\\t\\t\\n\\t\\t\\t\\t\\t\\t...</td>\n      <td>13:00</td>\n      <td>economy</td>\n      <td>{'source': 'Mumbai', 'destination': 'Delhi'}</td>\n      <td>0.0</td>\n      <td>3</td>\n      <td>19</td>\n      <td>78</td>\n    </tr>\n  </tbody>\n</table>\n</div>"
     },
     "execution_count": 59,
     "metadata": {},
     "output_type": "execute_result"
    }
   ],
   "source": [
    "ch_enc = joblib.load(\"EncoderModels/ch_enc.save\")\n",
    "\n",
    "df['ch_code'] = ch_enc.transform(df[[\"ch_code\"]])\n",
    "\n",
    "df.head()"
   ],
   "metadata": {
    "collapsed": false,
    "pycharm": {
     "name": "#%%\n"
    }
   }
  },
  {
   "cell_type": "markdown",
   "source": [
    "#### Departure time preprocessing"
   ],
   "metadata": {
    "collapsed": false,
    "pycharm": {
     "name": "#%% md\n"
    }
   }
  },
  {
   "cell_type": "code",
   "execution_count": 60,
   "outputs": [],
   "source": [
    "df[\"dep_time\"]=pd.to_datetime(df[\"dep_time\"])\n",
    "df['dep_time'] = df['dep_time'].dt.strftime(\"%-H:%M\")\n",
    "df[\"dep_hour\"]=pd.DatetimeIndex(df[\"dep_time\"]).hour\n",
    "df[\"dep_minute\"]=pd.DatetimeIndex(df[\"dep_time\"]).minute"
   ],
   "metadata": {
    "collapsed": false,
    "pycharm": {
     "name": "#%%\n"
    }
   }
  },
  {
   "cell_type": "markdown",
   "source": [
    "#### Time_taken preprocessing"
   ],
   "metadata": {
    "collapsed": false,
    "pycharm": {
     "name": "#%% md\n"
    }
   }
  },
  {
   "cell_type": "code",
   "execution_count": 61,
   "outputs": [],
   "source": [
    "df[\"hours_taken\"] = df[\"time_taken\"].str.split('h').str.get(0)\n",
    "df[\"minutes_taken\"] = df[\"time_taken\"].str[4:6]\n",
    "df[\"minutes_taken\"] = df[\"minutes_taken\"].str.replace('m', '')\n",
    "df[\"minutes_taken\"] = df[\"minutes_taken\"].str.replace('h', '')\n",
    "df[\"hours_taken\"] = pd.to_numeric(df[\"hours_taken\"])\n",
    "df[\"minutes_taken\"] = pd.to_numeric(df[\"minutes_taken\"], errors='coerce')"
   ],
   "metadata": {
    "collapsed": false,
    "pycharm": {
     "name": "#%%\n"
    }
   }
  },
  {
   "cell_type": "markdown",
   "source": [
    "#### Stop preprocessing"
   ],
   "metadata": {
    "collapsed": false,
    "pycharm": {
     "name": "#%% md\n"
    }
   }
  },
  {
   "cell_type": "code",
   "execution_count": 62,
   "outputs": [],
   "source": [
    "df[\"stop\"] = df[\"stop\"].str.split('-').str.get(0)\n",
    "df[\"stop\"] = df[\"stop\"].replace(['non'], 0)\n",
    "df.isna().sum() #  28944 null vals\n",
    "df[\"stop\"] = df[\"stop\"].replace(['2+'], 2) # Indicates for 2 or more stops\n",
    "df['stop'] = df['stop'].fillna(0)\n",
    "df['stop'] = pd.to_numeric(df['stop'])"
   ],
   "metadata": {
    "collapsed": false,
    "pycharm": {
     "name": "#%%\n"
    }
   }
  },
  {
   "cell_type": "markdown",
   "source": [
    "#### Arrival time preprocessing"
   ],
   "metadata": {
    "collapsed": false,
    "pycharm": {
     "name": "#%% md\n"
    }
   }
  },
  {
   "cell_type": "code",
   "execution_count": 63,
   "outputs": [],
   "source": [
    "df[\"arr_time\"]=pd.to_datetime(df[\"arr_time\"])\n",
    "df['arr_time'] = df['arr_time'].dt.strftime(\"%-H:%M\")\n",
    "df[\"arr_hour\"]=pd.DatetimeIndex(df[\"arr_time\"]).hour\n",
    "df[\"arr_minute\"]=pd.DatetimeIndex(df[\"arr_time\"]).minute\n",
    "df[\"arr_hour\"] = pd.to_numeric(df[\"arr_hour\"])\n",
    "df[\"arr_minute\"] = pd.to_numeric(df[\"arr_minute\"])"
   ],
   "metadata": {
    "collapsed": false,
    "pycharm": {
     "name": "#%%\n"
    }
   }
  },
  {
   "cell_type": "markdown",
   "source": [
    "#### Source & Destination preprocessing"
   ],
   "metadata": {
    "collapsed": false,
    "pycharm": {
     "name": "#%% md\n"
    }
   }
  },
  {
   "cell_type": "code",
   "execution_count": 64,
   "outputs": [],
   "source": [
    "df['source'] = df['route'].str.split( ', ').str.get(0).str.split(':').str.get(1)\n",
    "df['destination'] = df['route'].str.split( ', ').str.get(1).str.split(':').str.get(1).str.split('}').str.get(0)\n",
    "df['source'] = df['source'].str.replace('\\'', \"\")\n",
    "df['destination'] = df['destination'].str.replace('\\'', \"\")"
   ],
   "metadata": {
    "collapsed": false,
    "pycharm": {
     "name": "#%%\n"
    }
   }
  },
  {
   "cell_type": "markdown",
   "source": [
    "#### Loading Type Encoder :"
   ],
   "metadata": {
    "collapsed": false,
    "pycharm": {
     "name": "#%% md\n"
    }
   }
  },
  {
   "cell_type": "code",
   "execution_count": 65,
   "outputs": [
    {
     "data": {
      "text/plain": "         date    airline  ch_code  num_code             dep_time time_taken  \\\n0  12/02/2022    Vistara      7.0       852  2022-05-27 09:30:00    11h 10m   \n1  03/03/2022     Indigo      1.0       248  2022-05-27 22:20:00    02h 05m   \n2  03/19/2022  Air India      2.0       570  2022-05-27 05:20:00    07h 40m   \n\n   stop             arr_time  type  \\\n0     1  2022-05-27 20:40:00   1.0   \n1     0  2022-05-27 00:25:00   1.0   \n2     1  2022-05-27 13:00:00   1.0   \n\n                                             route  ...  day  dayofyear  \\\n0  {'source': 'Bangalore', 'destination': 'Delhi'}  ...    2        336   \n1     {'source': 'Mumbai', 'destination': 'Delhi'}  ...    3         62   \n2     {'source': 'Mumbai', 'destination': 'Delhi'}  ...   19         78   \n\n   dep_hour  dep_minute  hours_taken  minutes_taken  arr_hour  arr_minute  \\\n0         9          30           11             10        20          40   \n1        22          20            2              5         0          25   \n2         5          20            7             40        13           0   \n\n       source  destination  \n0   Bangalore        Delhi  \n1      Mumbai        Delhi  \n2      Mumbai        Delhi  \n\n[3 rows x 22 columns]",
      "text/html": "<div>\n<style scoped>\n    .dataframe tbody tr th:only-of-type {\n        vertical-align: middle;\n    }\n\n    .dataframe tbody tr th {\n        vertical-align: top;\n    }\n\n    .dataframe thead th {\n        text-align: right;\n    }\n</style>\n<table border=\"1\" class=\"dataframe\">\n  <thead>\n    <tr style=\"text-align: right;\">\n      <th></th>\n      <th>date</th>\n      <th>airline</th>\n      <th>ch_code</th>\n      <th>num_code</th>\n      <th>dep_time</th>\n      <th>time_taken</th>\n      <th>stop</th>\n      <th>arr_time</th>\n      <th>type</th>\n      <th>route</th>\n      <th>...</th>\n      <th>day</th>\n      <th>dayofyear</th>\n      <th>dep_hour</th>\n      <th>dep_minute</th>\n      <th>hours_taken</th>\n      <th>minutes_taken</th>\n      <th>arr_hour</th>\n      <th>arr_minute</th>\n      <th>source</th>\n      <th>destination</th>\n    </tr>\n  </thead>\n  <tbody>\n    <tr>\n      <th>0</th>\n      <td>12/02/2022</td>\n      <td>Vistara</td>\n      <td>7.0</td>\n      <td>852</td>\n      <td>2022-05-27 09:30:00</td>\n      <td>11h 10m</td>\n      <td>1</td>\n      <td>2022-05-27 20:40:00</td>\n      <td>1.0</td>\n      <td>{'source': 'Bangalore', 'destination': 'Delhi'}</td>\n      <td>...</td>\n      <td>2</td>\n      <td>336</td>\n      <td>9</td>\n      <td>30</td>\n      <td>11</td>\n      <td>10</td>\n      <td>20</td>\n      <td>40</td>\n      <td>Bangalore</td>\n      <td>Delhi</td>\n    </tr>\n    <tr>\n      <th>1</th>\n      <td>03/03/2022</td>\n      <td>Indigo</td>\n      <td>1.0</td>\n      <td>248</td>\n      <td>2022-05-27 22:20:00</td>\n      <td>02h 05m</td>\n      <td>0</td>\n      <td>2022-05-27 00:25:00</td>\n      <td>1.0</td>\n      <td>{'source': 'Mumbai', 'destination': 'Delhi'}</td>\n      <td>...</td>\n      <td>3</td>\n      <td>62</td>\n      <td>22</td>\n      <td>20</td>\n      <td>2</td>\n      <td>5</td>\n      <td>0</td>\n      <td>25</td>\n      <td>Mumbai</td>\n      <td>Delhi</td>\n    </tr>\n    <tr>\n      <th>2</th>\n      <td>03/19/2022</td>\n      <td>Air India</td>\n      <td>2.0</td>\n      <td>570</td>\n      <td>2022-05-27 05:20:00</td>\n      <td>07h 40m</td>\n      <td>1</td>\n      <td>2022-05-27 13:00:00</td>\n      <td>1.0</td>\n      <td>{'source': 'Mumbai', 'destination': 'Delhi'}</td>\n      <td>...</td>\n      <td>19</td>\n      <td>78</td>\n      <td>5</td>\n      <td>20</td>\n      <td>7</td>\n      <td>40</td>\n      <td>13</td>\n      <td>0</td>\n      <td>Mumbai</td>\n      <td>Delhi</td>\n    </tr>\n  </tbody>\n</table>\n<p>3 rows × 22 columns</p>\n</div>"
     },
     "execution_count": 65,
     "metadata": {},
     "output_type": "execute_result"
    }
   ],
   "source": [
    "type_enc = joblib.load(\"EncoderModels/type_enc.save\")\n",
    "df['type'] = type_enc.transform(df[[\"type\"]])\n",
    "df.head()"
   ],
   "metadata": {
    "collapsed": false,
    "pycharm": {
     "name": "#%%\n"
    }
   }
  },
  {
   "cell_type": "markdown",
   "source": [
    "#### Loading Source Encoder :"
   ],
   "metadata": {
    "collapsed": false,
    "pycharm": {
     "name": "#%% md\n"
    }
   }
  },
  {
   "cell_type": "code",
   "execution_count": 66,
   "outputs": [
    {
     "data": {
      "text/plain": "         date    airline  ch_code  num_code             dep_time time_taken  \\\n0  12/02/2022    Vistara      7.0       852  2022-05-27 09:30:00    11h 10m   \n1  03/03/2022     Indigo      1.0       248  2022-05-27 22:20:00    02h 05m   \n2  03/19/2022  Air India      2.0       570  2022-05-27 05:20:00    07h 40m   \n\n   stop             arr_time  type  \\\n0     1  2022-05-27 20:40:00   1.0   \n1     0  2022-05-27 00:25:00   1.0   \n2     1  2022-05-27 13:00:00   1.0   \n\n                                             route  ...  day  dayofyear  \\\n0  {'source': 'Bangalore', 'destination': 'Delhi'}  ...    2        336   \n1     {'source': 'Mumbai', 'destination': 'Delhi'}  ...    3         62   \n2     {'source': 'Mumbai', 'destination': 'Delhi'}  ...   19         78   \n\n   dep_hour  dep_minute  hours_taken  minutes_taken  arr_hour  arr_minute  \\\n0         9          30           11             10        20          40   \n1        22          20            2              5         0          25   \n2         5          20            7             40        13           0   \n\n   source  destination  \n0     0.0        Delhi  \n1     5.0        Delhi  \n2     5.0        Delhi  \n\n[3 rows x 22 columns]",
      "text/html": "<div>\n<style scoped>\n    .dataframe tbody tr th:only-of-type {\n        vertical-align: middle;\n    }\n\n    .dataframe tbody tr th {\n        vertical-align: top;\n    }\n\n    .dataframe thead th {\n        text-align: right;\n    }\n</style>\n<table border=\"1\" class=\"dataframe\">\n  <thead>\n    <tr style=\"text-align: right;\">\n      <th></th>\n      <th>date</th>\n      <th>airline</th>\n      <th>ch_code</th>\n      <th>num_code</th>\n      <th>dep_time</th>\n      <th>time_taken</th>\n      <th>stop</th>\n      <th>arr_time</th>\n      <th>type</th>\n      <th>route</th>\n      <th>...</th>\n      <th>day</th>\n      <th>dayofyear</th>\n      <th>dep_hour</th>\n      <th>dep_minute</th>\n      <th>hours_taken</th>\n      <th>minutes_taken</th>\n      <th>arr_hour</th>\n      <th>arr_minute</th>\n      <th>source</th>\n      <th>destination</th>\n    </tr>\n  </thead>\n  <tbody>\n    <tr>\n      <th>0</th>\n      <td>12/02/2022</td>\n      <td>Vistara</td>\n      <td>7.0</td>\n      <td>852</td>\n      <td>2022-05-27 09:30:00</td>\n      <td>11h 10m</td>\n      <td>1</td>\n      <td>2022-05-27 20:40:00</td>\n      <td>1.0</td>\n      <td>{'source': 'Bangalore', 'destination': 'Delhi'}</td>\n      <td>...</td>\n      <td>2</td>\n      <td>336</td>\n      <td>9</td>\n      <td>30</td>\n      <td>11</td>\n      <td>10</td>\n      <td>20</td>\n      <td>40</td>\n      <td>0.0</td>\n      <td>Delhi</td>\n    </tr>\n    <tr>\n      <th>1</th>\n      <td>03/03/2022</td>\n      <td>Indigo</td>\n      <td>1.0</td>\n      <td>248</td>\n      <td>2022-05-27 22:20:00</td>\n      <td>02h 05m</td>\n      <td>0</td>\n      <td>2022-05-27 00:25:00</td>\n      <td>1.0</td>\n      <td>{'source': 'Mumbai', 'destination': 'Delhi'}</td>\n      <td>...</td>\n      <td>3</td>\n      <td>62</td>\n      <td>22</td>\n      <td>20</td>\n      <td>2</td>\n      <td>5</td>\n      <td>0</td>\n      <td>25</td>\n      <td>5.0</td>\n      <td>Delhi</td>\n    </tr>\n    <tr>\n      <th>2</th>\n      <td>03/19/2022</td>\n      <td>Air India</td>\n      <td>2.0</td>\n      <td>570</td>\n      <td>2022-05-27 05:20:00</td>\n      <td>07h 40m</td>\n      <td>1</td>\n      <td>2022-05-27 13:00:00</td>\n      <td>1.0</td>\n      <td>{'source': 'Mumbai', 'destination': 'Delhi'}</td>\n      <td>...</td>\n      <td>19</td>\n      <td>78</td>\n      <td>5</td>\n      <td>20</td>\n      <td>7</td>\n      <td>40</td>\n      <td>13</td>\n      <td>0</td>\n      <td>5.0</td>\n      <td>Delhi</td>\n    </tr>\n  </tbody>\n</table>\n<p>3 rows × 22 columns</p>\n</div>"
     },
     "execution_count": 66,
     "metadata": {},
     "output_type": "execute_result"
    }
   ],
   "source": [
    "source_enc = joblib.load(\"EncoderModels/source_enc.save\")\n",
    "df['source'] = source_enc.transform(df[[\"source\"]])\n",
    "df.head()"
   ],
   "metadata": {
    "collapsed": false,
    "pycharm": {
     "name": "#%%\n"
    }
   }
  },
  {
   "cell_type": "markdown",
   "source": [
    "#### Loading Destination Encoder :"
   ],
   "metadata": {
    "collapsed": false,
    "pycharm": {
     "name": "#%% md\n"
    }
   }
  },
  {
   "cell_type": "code",
   "execution_count": 67,
   "outputs": [
    {
     "data": {
      "text/plain": "         date    airline  ch_code  num_code             dep_time time_taken  \\\n0  12/02/2022    Vistara      7.0       852  2022-05-27 09:30:00    11h 10m   \n1  03/03/2022     Indigo      1.0       248  2022-05-27 22:20:00    02h 05m   \n2  03/19/2022  Air India      2.0       570  2022-05-27 05:20:00    07h 40m   \n\n   stop             arr_time  type  \\\n0     1  2022-05-27 20:40:00   1.0   \n1     0  2022-05-27 00:25:00   1.0   \n2     1  2022-05-27 13:00:00   1.0   \n\n                                             route  ...  day  dayofyear  \\\n0  {'source': 'Bangalore', 'destination': 'Delhi'}  ...    2        336   \n1     {'source': 'Mumbai', 'destination': 'Delhi'}  ...    3         62   \n2     {'source': 'Mumbai', 'destination': 'Delhi'}  ...   19         78   \n\n   dep_hour  dep_minute  hours_taken  minutes_taken  arr_hour  arr_minute  \\\n0         9          30           11             10        20          40   \n1        22          20            2              5         0          25   \n2         5          20            7             40        13           0   \n\n   source  destination  \n0     0.0          2.0  \n1     5.0          2.0  \n2     5.0          2.0  \n\n[3 rows x 22 columns]",
      "text/html": "<div>\n<style scoped>\n    .dataframe tbody tr th:only-of-type {\n        vertical-align: middle;\n    }\n\n    .dataframe tbody tr th {\n        vertical-align: top;\n    }\n\n    .dataframe thead th {\n        text-align: right;\n    }\n</style>\n<table border=\"1\" class=\"dataframe\">\n  <thead>\n    <tr style=\"text-align: right;\">\n      <th></th>\n      <th>date</th>\n      <th>airline</th>\n      <th>ch_code</th>\n      <th>num_code</th>\n      <th>dep_time</th>\n      <th>time_taken</th>\n      <th>stop</th>\n      <th>arr_time</th>\n      <th>type</th>\n      <th>route</th>\n      <th>...</th>\n      <th>day</th>\n      <th>dayofyear</th>\n      <th>dep_hour</th>\n      <th>dep_minute</th>\n      <th>hours_taken</th>\n      <th>minutes_taken</th>\n      <th>arr_hour</th>\n      <th>arr_minute</th>\n      <th>source</th>\n      <th>destination</th>\n    </tr>\n  </thead>\n  <tbody>\n    <tr>\n      <th>0</th>\n      <td>12/02/2022</td>\n      <td>Vistara</td>\n      <td>7.0</td>\n      <td>852</td>\n      <td>2022-05-27 09:30:00</td>\n      <td>11h 10m</td>\n      <td>1</td>\n      <td>2022-05-27 20:40:00</td>\n      <td>1.0</td>\n      <td>{'source': 'Bangalore', 'destination': 'Delhi'}</td>\n      <td>...</td>\n      <td>2</td>\n      <td>336</td>\n      <td>9</td>\n      <td>30</td>\n      <td>11</td>\n      <td>10</td>\n      <td>20</td>\n      <td>40</td>\n      <td>0.0</td>\n      <td>2.0</td>\n    </tr>\n    <tr>\n      <th>1</th>\n      <td>03/03/2022</td>\n      <td>Indigo</td>\n      <td>1.0</td>\n      <td>248</td>\n      <td>2022-05-27 22:20:00</td>\n      <td>02h 05m</td>\n      <td>0</td>\n      <td>2022-05-27 00:25:00</td>\n      <td>1.0</td>\n      <td>{'source': 'Mumbai', 'destination': 'Delhi'}</td>\n      <td>...</td>\n      <td>3</td>\n      <td>62</td>\n      <td>22</td>\n      <td>20</td>\n      <td>2</td>\n      <td>5</td>\n      <td>0</td>\n      <td>25</td>\n      <td>5.0</td>\n      <td>2.0</td>\n    </tr>\n    <tr>\n      <th>2</th>\n      <td>03/19/2022</td>\n      <td>Air India</td>\n      <td>2.0</td>\n      <td>570</td>\n      <td>2022-05-27 05:20:00</td>\n      <td>07h 40m</td>\n      <td>1</td>\n      <td>2022-05-27 13:00:00</td>\n      <td>1.0</td>\n      <td>{'source': 'Mumbai', 'destination': 'Delhi'}</td>\n      <td>...</td>\n      <td>19</td>\n      <td>78</td>\n      <td>5</td>\n      <td>20</td>\n      <td>7</td>\n      <td>40</td>\n      <td>13</td>\n      <td>0</td>\n      <td>5.0</td>\n      <td>2.0</td>\n    </tr>\n  </tbody>\n</table>\n<p>3 rows × 22 columns</p>\n</div>"
     },
     "execution_count": 67,
     "metadata": {},
     "output_type": "execute_result"
    }
   ],
   "source": [
    "destination_enc = joblib.load(\"EncoderModels/destination_enc.save\")\n",
    "df['destination'] = source_enc.transform(df[[\"destination\"]])\n",
    "df.head()"
   ],
   "metadata": {
    "collapsed": false,
    "pycharm": {
     "name": "#%%\n"
    }
   }
  },
  {
   "cell_type": "markdown",
   "source": [
    "#### Cleaning Data"
   ],
   "metadata": {
    "collapsed": false,
    "pycharm": {
     "name": "#%% md\n"
    }
   }
  },
  {
   "cell_type": "code",
   "execution_count": 68,
   "outputs": [
    {
     "data": {
      "text/plain": "   ch_code  num_code  stop  type  TicketCategory  month  day  dayofyear  \\\n0      7.0       852     1   1.0             2.0     12    2        336   \n1      1.0       248     0   1.0             0.0      3    3         62   \n2      2.0       570     1   1.0             0.0      3   19         78   \n\n   dep_hour  dep_minute  hours_taken  minutes_taken  arr_hour  arr_minute  \\\n0         9          30           11             10        20          40   \n1        22          20            2              5         0          25   \n2         5          20            7             40        13           0   \n\n   source  destination  \n0     0.0          2.0  \n1     5.0          2.0  \n2     5.0          2.0  ",
      "text/html": "<div>\n<style scoped>\n    .dataframe tbody tr th:only-of-type {\n        vertical-align: middle;\n    }\n\n    .dataframe tbody tr th {\n        vertical-align: top;\n    }\n\n    .dataframe thead th {\n        text-align: right;\n    }\n</style>\n<table border=\"1\" class=\"dataframe\">\n  <thead>\n    <tr style=\"text-align: right;\">\n      <th></th>\n      <th>ch_code</th>\n      <th>num_code</th>\n      <th>stop</th>\n      <th>type</th>\n      <th>TicketCategory</th>\n      <th>month</th>\n      <th>day</th>\n      <th>dayofyear</th>\n      <th>dep_hour</th>\n      <th>dep_minute</th>\n      <th>hours_taken</th>\n      <th>minutes_taken</th>\n      <th>arr_hour</th>\n      <th>arr_minute</th>\n      <th>source</th>\n      <th>destination</th>\n    </tr>\n  </thead>\n  <tbody>\n    <tr>\n      <th>0</th>\n      <td>7.0</td>\n      <td>852</td>\n      <td>1</td>\n      <td>1.0</td>\n      <td>2.0</td>\n      <td>12</td>\n      <td>2</td>\n      <td>336</td>\n      <td>9</td>\n      <td>30</td>\n      <td>11</td>\n      <td>10</td>\n      <td>20</td>\n      <td>40</td>\n      <td>0.0</td>\n      <td>2.0</td>\n    </tr>\n    <tr>\n      <th>1</th>\n      <td>1.0</td>\n      <td>248</td>\n      <td>0</td>\n      <td>1.0</td>\n      <td>0.0</td>\n      <td>3</td>\n      <td>3</td>\n      <td>62</td>\n      <td>22</td>\n      <td>20</td>\n      <td>2</td>\n      <td>5</td>\n      <td>0</td>\n      <td>25</td>\n      <td>5.0</td>\n      <td>2.0</td>\n    </tr>\n    <tr>\n      <th>2</th>\n      <td>2.0</td>\n      <td>570</td>\n      <td>1</td>\n      <td>1.0</td>\n      <td>0.0</td>\n      <td>3</td>\n      <td>19</td>\n      <td>78</td>\n      <td>5</td>\n      <td>20</td>\n      <td>7</td>\n      <td>40</td>\n      <td>13</td>\n      <td>0</td>\n      <td>5.0</td>\n      <td>2.0</td>\n    </tr>\n  </tbody>\n</table>\n</div>"
     },
     "execution_count": 68,
     "metadata": {},
     "output_type": "execute_result"
    }
   ],
   "source": [
    "df = df.fillna(-1)\n",
    "df = df.drop(['airline', 'date', 'dep_time', \"time_taken\", 'arr_time', 'route',], axis=1)\n",
    "df.head()"
   ],
   "metadata": {
    "collapsed": false,
    "pycharm": {
     "name": "#%%\n"
    }
   }
  },
  {
   "cell_type": "code",
   "execution_count": 69,
   "outputs": [],
   "source": [
    "X = df.loc[:, df.columns != 'TicketCategory']\n",
    "Y = df['TicketCategory']"
   ],
   "metadata": {
    "collapsed": false,
    "pycharm": {
     "name": "#%%\n"
    }
   }
  },
  {
   "cell_type": "markdown",
   "source": [
    "#### Loading Scaler Model :"
   ],
   "metadata": {
    "collapsed": false,
    "pycharm": {
     "name": "#%% md\n"
    }
   }
  },
  {
   "cell_type": "code",
   "execution_count": 70,
   "outputs": [],
   "source": [
    "scaler = joblib.load(\"scaler.save\")\n",
    "X_scaled = scaler.transform(X)"
   ],
   "metadata": {
    "collapsed": false,
    "pycharm": {
     "name": "#%%\n"
    }
   }
  },
  {
   "cell_type": "code",
   "execution_count": 71,
   "outputs": [],
   "source": [
    "from sklearn.neighbors import KNeighborsClassifier\n",
    "from sklearn.metrics import classification_report,accuracy_score\n",
    "from sklearn import svm\n",
    "from sklearn.linear_model import LogisticRegression\n",
    "from sklearn.tree import DecisionTreeClassifier\n",
    "from sklearn.neural_network import MLPClassifier\n",
    "from sklearn.ensemble import RandomForestClassifier\n",
    "from sklearn.linear_model import RidgeClassifier"
   ],
   "metadata": {
    "collapsed": false,
    "pycharm": {
     "name": "#%%\n"
    }
   }
  },
  {
   "cell_type": "markdown",
   "source": [
    "#### Loading Classification model :"
   ],
   "metadata": {
    "collapsed": false,
    "pycharm": {
     "name": "#%% md\n"
    }
   }
  },
  {
   "cell_type": "code",
   "execution_count": 72,
   "outputs": [],
   "source": [
    "rfc_model = joblib.load(\"PredictionModels\\RandomForestClassifier(n_jobs=-1, random_state=42)_ClassificationModel.save\")\n",
    "dtc_model = joblib.load(\"PredictionModels\\DecisionTreeClassifier(max_depth=50, random_state=42)_ClassificationModel.save\")\n",
    "knn_model = joblib.load(\"PredictionModels\\KNeighborsClassifier()_ClassificationModel.save\")\n",
    "logestic_model = joblib.load(\"PredictionModels\\LogisticRegression(C=0.1)_ClassificationModel.save\")\n",
    "mlpc_model = joblib.load(\"PredictionModels\\MLPClassifier(activation='tanh', hidden_layer_sizes=(150, 100, 50), max_iter=50)_ClassificationModel.save\")\n",
    "ridge_model = joblib.load(\"PredictionModels\\RidgeClassifier(alpha=0.1)_ClassificationModel.save\")"
   ],
   "metadata": {
    "collapsed": false,
    "pycharm": {
     "name": "#%%\n"
    }
   }
  },
  {
   "cell_type": "code",
   "execution_count": 73,
   "outputs": [
    {
     "name": "stdout",
     "output_type": "stream",
     "text": [
      "Accuracy of: RandomForestClassifier(n_jobs=-1, random_state=42):0.6666666666666666\n",
      "\n",
      "\n",
      "              precision    recall  f1-score   support\n",
      "\n",
      "         0.0       1.00      0.50      0.67         2\n",
      "         2.0       0.50      1.00      0.67         1\n",
      "\n",
      "    accuracy                           0.67         3\n",
      "   macro avg       0.75      0.75      0.67         3\n",
      "weighted avg       0.83      0.67      0.67         3\n",
      "\n",
      "Accuracy of: DecisionTreeClassifier(max_depth=50, random_state=42):0.6666666666666666\n",
      "\n",
      "\n",
      "              precision    recall  f1-score   support\n",
      "\n",
      "         0.0       1.00      0.50      0.67         2\n",
      "         2.0       0.50      1.00      0.67         1\n",
      "\n",
      "    accuracy                           0.67         3\n",
      "   macro avg       0.75      0.75      0.67         3\n",
      "weighted avg       0.83      0.67      0.67         3\n",
      "\n",
      "Accuracy of: KNeighborsClassifier():0.6666666666666666\n",
      "\n",
      "\n",
      "              precision    recall  f1-score   support\n",
      "\n",
      "         0.0       0.67      1.00      0.80         2\n",
      "         2.0       0.00      0.00      0.00         1\n",
      "\n",
      "    accuracy                           0.67         3\n",
      "   macro avg       0.33      0.50      0.40         3\n",
      "weighted avg       0.44      0.67      0.53         3\n",
      "\n",
      "Accuracy of: LogisticRegression(C=0.1):0.6666666666666666\n",
      "\n",
      "\n",
      "              precision    recall  f1-score   support\n",
      "\n",
      "         0.0       1.00      0.50      0.67         2\n",
      "         2.0       0.50      1.00      0.67         1\n",
      "\n",
      "    accuracy                           0.67         3\n",
      "   macro avg       0.75      0.75      0.67         3\n",
      "weighted avg       0.83      0.67      0.67         3\n",
      "\n",
      "Accuracy of: MLPClassifier(activation='tanh', hidden_layer_sizes=(150, 100, 50), max_iter=50):0.6666666666666666\n",
      "\n",
      "\n",
      "              precision    recall  f1-score   support\n",
      "\n",
      "         0.0       1.00      0.50      0.67         2\n",
      "         2.0       0.50      1.00      0.67         1\n",
      "\n",
      "    accuracy                           0.67         3\n",
      "   macro avg       0.75      0.75      0.67         3\n",
      "weighted avg       0.83      0.67      0.67         3\n",
      "\n",
      "Accuracy of: RidgeClassifier(alpha=0.1):1.0\n",
      "\n",
      "\n",
      "              precision    recall  f1-score   support\n",
      "\n",
      "         0.0       1.00      1.00      1.00         2\n",
      "         2.0       1.00      1.00      1.00         1\n",
      "\n",
      "    accuracy                           1.00         3\n",
      "   macro avg       1.00      1.00      1.00         3\n",
      "weighted avg       1.00      1.00      1.00         3\n",
      "\n"
     ]
    }
   ],
   "source": [
    "for i, clf in enumerate((rfc_model, dtc_model, knn_model, logestic_model, mlpc_model, ridge_model)):\n",
    "    predictions = clf.predict(X_scaled)\n",
    "    print(\"Accuracy of: \" + str(clf)+\":\"+str(accuracy_score(Y, predictions)))\n",
    "    print('\\n')\n",
    "    print(classification_report(Y, predictions))\n"
   ],
   "metadata": {
    "collapsed": false,
    "pycharm": {
     "name": "#%%\n"
    }
   }
  }
 ],
 "metadata": {
  "kernelspec": {
   "display_name": "Python 3",
   "language": "python",
   "name": "python3"
  },
  "language_info": {
   "codemirror_mode": {
    "name": "ipython",
    "version": 2
   },
   "file_extension": ".py",
   "mimetype": "text/x-python",
   "name": "python",
   "nbconvert_exporter": "python",
   "pygments_lexer": "ipython2",
   "version": "2.7.6"
  }
 },
 "nbformat": 4,
 "nbformat_minor": 0
}